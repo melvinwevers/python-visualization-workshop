{
 "cells": [
  {
   "cell_type": "markdown",
   "metadata": {},
   "source": [
    "# TEXT MINING THE GREAT UNREAD\n",
    "\n",
    "### Data Visualization Using Python - Melvin Wevers\n",
    "\n",
    "__Digital Humanities Group @ KNAW Humanities Cluster (Amsterdam)__\n",
    "\n",
    "```\n",
    "melvinwevers (at) gmail.com\n",
    "```\n",
    "---\n",
    "In this workshop, we will use several visualization techniques to explore datasets and to uncover patterns in textual data.  \n",
    "We will start by using Matplotlib in Python and then work on graphing in Pandas, which relies on Matplotlib.\n"
   ]
  },
  {
   "cell_type": "markdown",
   "metadata": {},
   "source": [
    "First, we will load some required libraries. "
   ]
  },
  {
   "cell_type": "code",
   "execution_count": 1,
   "metadata": {
    "collapsed": true
   },
   "outputs": [],
   "source": [
    "#libraries\n",
    "import glob\n",
    "import numpy as np #we load numpy as np, so we can call the library using np instead of np\n",
    "import pandas as pd"
   ]
  },
  {
   "cell_type": "markdown",
   "metadata": {},
   "source": [
    "---"
   ]
  },
  {
   "cell_type": "markdown",
   "metadata": {},
   "source": [
    "## 1. EXPLORING THE DATASET\n",
    "\n",
    "For this workshop, we will be working with the British newspaper Financial Times.   \n",
    "Because of copyright restrictions, the dataset only includes the month September for the years 1939, 1966, and 1991.\n",
    "\n",
    "The following code block downloads the json files in the 'data' folder and places them in a Pandas dataframe.  \n",
    "A Pandas Dataframe is a tabular structure similar to an Excel spreadsheet.   \n",
    "You can do operations on the numbers and text in the dataframe."
   ]
  },
  {
   "cell_type": "code",
   "execution_count": 2,
   "metadata": {
    "collapsed": true
   },
   "outputs": [],
   "source": [
    "path ='data' #here we define the path\n",
    "allFiles = glob.glob(path + \"/*.json\")\n",
    "frame = pd.DataFrame() #here we initialize a Pandas DataFrame\n",
    "list_ = []\n",
    "for file_ in allFiles:\n",
    "    frame = pd.read_json(file_) #since the files are in json format we use read_json. Other options include read_csv\n",
    "    list_.append(frame) \n",
    "df = pd.concat(list_)"
   ]
  },
  {
   "cell_type": "markdown",
   "metadata": {},
   "source": [
    "We have now loaded the documents into a dataframe with the name 'df'.\n",
    "\n",
    "---"
   ]
  },
  {
   "cell_type": "markdown",
   "metadata": {},
   "source": [
    "### Assignment 1: Exploring the dataset\n",
    "For the first assignment, we will explore the dataset.  \n",
    "Use the following functions to explore the dataframe with the name 'df':\n",
    "```\n",
    "df.head() #this shows the first lines (put a number between the parenthesis to determine how many lines)\n",
    "df.tail()\n",
    "df.shape[0] #this shows the (horizontal) size of the dataframe. Replace the 0 with 1 for vertical size.\n",
    "```\n",
    "Make a markdown cell (with + or 'b') and note the names of the columns that contain the __text__ in the articles and the __date__ of the articles."
   ]
  },
  {
   "cell_type": "markdown",
   "metadata": {},
   "source": [
    "---"
   ]
  },
  {
   "cell_type": "markdown",
   "metadata": {},
   "source": [
    "### Assignment 2: Investigate cells that contain specific word(s)\n",
    "\n",
    "If you want to view cells that contain specific text (in this case Aarhus) you can use:\n",
    "```\n",
    "df[df[\"text_content\"].str.contains(\"Aarhus\")]\n",
    "```\n",
    "If you want to view the full contents of the cell use:\n",
    "```\n",
    "pd.set_option('display.max_colwidth', -1)\n",
    "```\n",
    "For truncation set the value -1 to the width of the column, for instance 50\n",
    "\n",
    "Replace the string with other string to get an idea of the type of articles in the dataset. "
   ]
  },
  {
   "cell_type": "code",
   "execution_count": 15,
   "metadata": {
    "collapsed": false
   },
   "outputs": [
    {
     "data": {
      "text/html": [
       "<div>\n",
       "<table border=\"1\" class=\"dataframe\">\n",
       "  <thead>\n",
       "    <tr style=\"text-align: right;\">\n",
       "      <th></th>\n",
       "      <th>_id</th>\n",
       "      <th>article_dc_subject</th>\n",
       "      <th>article_dc_title</th>\n",
       "      <th>paper_dc_date</th>\n",
       "      <th>paper_dc_title</th>\n",
       "      <th>paper_dcterms_spatial</th>\n",
       "      <th>paper_dcterms_temporal</th>\n",
       "      <th>text_content</th>\n",
       "    </tr>\n",
       "  </thead>\n",
       "  <tbody>\n",
       "    <tr>\n",
       "      <th>44</th>\n",
       "      <td>FTDA_1939_0901_0004_005</td>\n",
       "      <td>article</td>\n",
       "      <td>Prudential Assurance</td>\n",
       "      <td>1939-09-01</td>\n",
       "      <td>The Financial Times</td>\n",
       "      <td>National Daily</td>\n",
       "      <td>National Daily</td>\n",
       "      <td>The decision of the directors of the Prudentia...</td>\n",
       "    </tr>\n",
       "    <tr>\n",
       "      <th>53</th>\n",
       "      <td>FTDA_1939_0901_0004_014</td>\n",
       "      <td>article</td>\n",
       "      <td>Plate Freight Rate Advances</td>\n",
       "      <td>1939-09-01</td>\n",
       "      <td>The Financial Times</td>\n",
       "      <td>National Daily</td>\n",
       "      <td>National Daily</td>\n",
       "      <td>PLATE FREIGHT RATE ADVANCES UP 5s A TON Althou...</td>\n",
       "    </tr>\n",
       "    <tr>\n",
       "      <th>72</th>\n",
       "      <td>FTDA_1939_0901_0005_017</td>\n",
       "      <td>article</td>\n",
       "      <td>Rand Profits Limitation</td>\n",
       "      <td>1939-09-01</td>\n",
       "      <td>The Financial Times</td>\n",
       "      <td>National Daily</td>\n",
       "      <td>National Daily</td>\n",
       "      <td>From OUR OWN CORRESPONDENT JOHANNESBURG, 31st ...</td>\n",
       "    </tr>\n",
       "    <tr>\n",
       "      <th>29</th>\n",
       "      <td>FTDA_1939_0902_0003_009</td>\n",
       "      <td>article</td>\n",
       "      <td>Obituary</td>\n",
       "      <td>1939-09-02</td>\n",
       "      <td>The Financial Times</td>\n",
       "      <td>National Daily</td>\n",
       "      <td>National Daily</td>\n",
       "      <td>The death has occurrud at Elie, Fife- shire, o...</td>\n",
       "    </tr>\n",
       "    <tr>\n",
       "      <th>58</th>\n",
       "      <td>FTDA_1939_0902_0004_018</td>\n",
       "      <td>article</td>\n",
       "      <td>Multiple News Items</td>\n",
       "      <td>1939-09-02</td>\n",
       "      <td>The Financial Times</td>\n",
       "      <td>National Daily</td>\n",
       "      <td>National Daily</td>\n",
       "      <td>SBETTS AND CO. Mr. Douglass Hewitt, of Betts a...</td>\n",
       "    </tr>\n",
       "    <tr>\n",
       "      <th>62</th>\n",
       "      <td>FTDA_1939_0902_0005_002</td>\n",
       "      <td>article</td>\n",
       "      <td>Maximum Interest of 5% Â£500,000,000 Credit</td>\n",
       "      <td>1939-09-02</td>\n",
       "      <td>The Financial Times</td>\n",
       "      <td>National Daily</td>\n",
       "      <td>National Daily</td>\n",
       "      <td>SIR JOHN SIMON, Chancellor of the Exchequer, i...</td>\n",
       "    </tr>\n",
       "    <tr>\n",
       "      <th>19</th>\n",
       "      <td>FTDA_1939_0904_0002_004</td>\n",
       "      <td>article</td>\n",
       "      <td>Commodity Markets and the Crisis</td>\n",
       "      <td>1939-09-04</td>\n",
       "      <td>The Financial Times</td>\n",
       "      <td>National Daily</td>\n",
       "      <td>National Daily</td>\n",
       "      <td>Apart from dealings in wheat, cotton and sugar...</td>\n",
       "    </tr>\n",
       "    <tr>\n",
       "      <th>55</th>\n",
       "      <td>FTDA_1939_0904_0003_017</td>\n",
       "      <td>article</td>\n",
       "      <td>Notrade with Enemy</td>\n",
       "      <td>1939-09-04</td>\n",
       "      <td>The Financial Times</td>\n",
       "      <td>National Daily</td>\n",
       "      <td>National Daily</td>\n",
       "      <td>Traders, shipowners and others are warned in a...</td>\n",
       "    </tr>\n",
       "    <tr>\n",
       "      <th>57</th>\n",
       "      <td>FTDA_1939_0905_0003_024</td>\n",
       "      <td>article</td>\n",
       "      <td>Obituary</td>\n",
       "      <td>1939-09-05</td>\n",
       "      <td>The Financial Times</td>\n",
       "      <td>National Daily</td>\n",
       "      <td>National Daily</td>\n",
       "      <td>OBITUARY SIR ALFRED TRITTON The death is annou...</td>\n",
       "    </tr>\n",
       "    <tr>\n",
       "      <th>48</th>\n",
       "      <td>FTDA_1939_0906_0003_015</td>\n",
       "      <td>article</td>\n",
       "      <td>Mr. D. Christopherson</td>\n",
       "      <td>1939-09-06</td>\n",
       "      <td>The Financial Times</td>\n",
       "      <td>National Daily</td>\n",
       "      <td>National Daily</td>\n",
       "      <td>Mr. Douglas Christopherson has been appointed ...</td>\n",
       "    </tr>\n",
       "    <tr>\n",
       "      <th>34</th>\n",
       "      <td>FTDA_1939_0907_0002_017</td>\n",
       "      <td>article</td>\n",
       "      <td>Company Meetings</td>\n",
       "      <td>1939-09-07</td>\n",
       "      <td>The Financial Times</td>\n",
       "      <td>National Daily</td>\n",
       "      <td>National Daily</td>\n",
       "      <td>The fifth annual, meeting of the members of Al...</td>\n",
       "    </tr>\n",
       "    <tr>\n",
       "      <th>25</th>\n",
       "      <td>FTDA_1939_0908_0002_009</td>\n",
       "      <td>article</td>\n",
       "      <td>Tindals Gold Mines</td>\n",
       "      <td>1939-09-08</td>\n",
       "      <td>The Financial Times</td>\n",
       "      <td>National Daily</td>\n",
       "      <td>National Daily</td>\n",
       "      <td>The third annual ordinary general meet- ing of...</td>\n",
       "    </tr>\n",
       "    <tr>\n",
       "      <th>23</th>\n",
       "      <td>FTDA_1939_0909_0002_002</td>\n",
       "      <td>article</td>\n",
       "      <td>A Dividend Problem</td>\n",
       "      <td>1939-09-09</td>\n",
       "      <td>The Financial Times</td>\n",
       "      <td>National Daily</td>\n",
       "      <td>National Daily</td>\n",
       "      <td>The Boards of industrial concerns must be unde...</td>\n",
       "    </tr>\n",
       "    <tr>\n",
       "      <th>38</th>\n",
       "      <td>FTDA_1939_0911_0002_016</td>\n",
       "      <td>article</td>\n",
       "      <td>Obiturary</td>\n",
       "      <td>1939-09-11</td>\n",
       "      <td>The Financial Times</td>\n",
       "      <td>National Daily</td>\n",
       "      <td>National Daily</td>\n",
       "      <td>SIR PAUL MAKINS Sir Paul Augustine Makins died...</td>\n",
       "    </tr>\n",
       "    <tr>\n",
       "      <th>45</th>\n",
       "      <td>FTDA_1939_0911_0002_023</td>\n",
       "      <td>article</td>\n",
       "      <td>Currency Export Ban</td>\n",
       "      <td>1939-09-11</td>\n",
       "      <td>The Financial Times</td>\n",
       "      <td>National Daily</td>\n",
       "      <td>National Daily</td>\n",
       "      <td>In accord with the Government's plans to maint...</td>\n",
       "    </tr>\n",
       "    <tr>\n",
       "      <th>11</th>\n",
       "      <td>FTDA_1939_0913_0001_012</td>\n",
       "      <td>article</td>\n",
       "      <td>Budget Doubts Restrict S. E. Activity</td>\n",
       "      <td>1939-09-13</td>\n",
       "      <td>The Financial Times</td>\n",
       "      <td>National Daily</td>\n",
       "      <td>National Daily</td>\n",
       "      <td>TUESDAY Evening. Budget uncertainties prevente...</td>\n",
       "    </tr>\n",
       "    <tr>\n",
       "      <th>16</th>\n",
       "      <td>FTDA_1939_0913_0001_017</td>\n",
       "      <td>article</td>\n",
       "      <td>Guaranty Exectutor and Trustee Company Limited</td>\n",
       "      <td>1939-09-13</td>\n",
       "      <td>The Financial Times</td>\n",
       "      <td>National Daily</td>\n",
       "      <td>National Daily</td>\n",
       "      <td>i Guaranty Executor and Trustee Company Limite...</td>\n",
       "    </tr>\n",
       "    <tr>\n",
       "      <th>26</th>\n",
       "      <td>FTDA_1939_0913_0002_010</td>\n",
       "      <td>article</td>\n",
       "      <td>Eagle Star Offer</td>\n",
       "      <td>1939-09-13</td>\n",
       "      <td>The Financial Times</td>\n",
       "      <td>National Daily</td>\n",
       "      <td>National Daily</td>\n",
       "      <td>The offer of Eagle Star Insurance Com- pany to...</td>\n",
       "    </tr>\n",
       "    <tr>\n",
       "      <th>18</th>\n",
       "      <td>FTDA_1939_0914_0001_019</td>\n",
       "      <td>article</td>\n",
       "      <td>Adjustment of Open Position Leaves Markets Quiet</td>\n",
       "      <td>1939-09-14</td>\n",
       "      <td>The Financial Times</td>\n",
       "      <td>National Daily</td>\n",
       "      <td>National Daily</td>\n",
       "      <td>WEDNESDAY Evening. Nothing occurred to-day to ...</td>\n",
       "    </tr>\n",
       "    <tr>\n",
       "      <th>54</th>\n",
       "      <td>FTDA_1939_0914_0003_016</td>\n",
       "      <td>article</td>\n",
       "      <td>Nchanga Consolidated Copper Mines</td>\n",
       "      <td>1939-09-14</td>\n",
       "      <td>The Financial Times</td>\n",
       "      <td>National Daily</td>\n",
       "      <td>National Daily</td>\n",
       "      <td>WORK ON PROPERTY PROGRESS ACCORDING TO PLAN .M...</td>\n",
       "    </tr>\n",
       "    <tr>\n",
       "      <th>22</th>\n",
       "      <td>FTDA_1939_0915_0002_002</td>\n",
       "      <td>article</td>\n",
       "      <td>An Ineffective Bank Rate</td>\n",
       "      <td>1939-09-15</td>\n",
       "      <td>The Financial Times</td>\n",
       "      <td>National Daily</td>\n",
       "      <td>National Daily</td>\n",
       "      <td>When Bank Rate was doubled to Four per Cent. o...</td>\n",
       "    </tr>\n",
       "    <tr>\n",
       "      <th>26</th>\n",
       "      <td>FTDA_1939_0915_0002_006</td>\n",
       "      <td>article</td>\n",
       "      <td>New Modder</td>\n",
       "      <td>1939-09-15</td>\n",
       "      <td>The Financial Times</td>\n",
       "      <td>National Daily</td>\n",
       "      <td>National Daily</td>\n",
       "      <td>The reduction in the total dividend of New Mod...</td>\n",
       "    </tr>\n",
       "    <tr>\n",
       "      <th>62</th>\n",
       "      <td>FTDA_1939_0915_0003_031</td>\n",
       "      <td>article</td>\n",
       "      <td>Mr. Walter Howell Idris</td>\n",
       "      <td>1939-09-15</td>\n",
       "      <td>The Financial Times</td>\n",
       "      <td>National Daily</td>\n",
       "      <td>National Daily</td>\n",
       "      <td>OBITUARY MR. WALTER HOWELL ODRIs- In London. C...</td>\n",
       "    </tr>\n",
       "    <tr>\n",
       "      <th>28</th>\n",
       "      <td>FTDA_1939_0918_0002_010</td>\n",
       "      <td>article</td>\n",
       "      <td>Hedge against War Risks</td>\n",
       "      <td>1939-09-18</td>\n",
       "      <td>The Financial Times</td>\n",
       "      <td>National Daily</td>\n",
       "      <td>National Daily</td>\n",
       "      <td>By our INSURANCE CORRESPONDENT As was pointed ...</td>\n",
       "    </tr>\n",
       "    <tr>\n",
       "      <th>47</th>\n",
       "      <td>FTDA_1939_0918_0002_029</td>\n",
       "      <td>article</td>\n",
       "      <td>Mr. Walter Morison</td>\n",
       "      <td>1939-09-18</td>\n",
       "      <td>The Financial Times</td>\n",
       "      <td>National Daily</td>\n",
       "      <td>National Daily</td>\n",
       "      <td>The death has occurred at Felixstowe after a s...</td>\n",
       "    </tr>\n",
       "    <tr>\n",
       "      <th>67</th>\n",
       "      <td>FTDA_1939_0918_0003_019</td>\n",
       "      <td>article</td>\n",
       "      <td>Mining Market Outlook</td>\n",
       "      <td>1939-09-18</td>\n",
       "      <td>The Financial Times</td>\n",
       "      <td>National Daily</td>\n",
       "      <td>National Daily</td>\n",
       "      <td>By THE MINING EDITOR There being a larger rati...</td>\n",
       "    </tr>\n",
       "    <tr>\n",
       "      <th>28</th>\n",
       "      <td>FTDA_1939_0921_0002_011</td>\n",
       "      <td>article</td>\n",
       "      <td>Board Changes</td>\n",
       "      <td>1939-09-21</td>\n",
       "      <td>The Financial Times</td>\n",
       "      <td>National Daily</td>\n",
       "      <td>National Daily</td>\n",
       "      <td>Wr.iU G01or.n C(emonrAIiso Follox in the death...</td>\n",
       "    </tr>\n",
       "    <tr>\n",
       "      <th>35</th>\n",
       "      <td>FTDA_1939_0923_0003_007</td>\n",
       "      <td>article</td>\n",
       "      <td>Taxation Changes in War Budget</td>\n",
       "      <td>1939-09-23</td>\n",
       "      <td>The Financial Times</td>\n",
       "      <td>National Daily</td>\n",
       "      <td>National Daily</td>\n",
       "      <td>By our POLITICAL CORRESPONDENT The impression ...</td>\n",
       "    </tr>\n",
       "    <tr>\n",
       "      <th>32</th>\n",
       "      <td>FTDA_1939_0925_0002_011</td>\n",
       "      <td>article</td>\n",
       "      <td>City Men and Matters</td>\n",
       "      <td>1939-09-25</td>\n",
       "      <td>The Financial Times</td>\n",
       "      <td>National Daily</td>\n",
       "      <td>National Daily</td>\n",
       "      <td>A HEARTENING influence on the City during the ...</td>\n",
       "    </tr>\n",
       "    <tr>\n",
       "      <th>58</th>\n",
       "      <td>FTDA_1939_0925_0003_017</td>\n",
       "      <td>article</td>\n",
       "      <td>Mining Market Notes</td>\n",
       "      <td>1939-09-25</td>\n",
       "      <td>The Financial Times</td>\n",
       "      <td>National Daily</td>\n",
       "      <td>National Daily</td>\n",
       "      <td>By THE MINING EDITOR The question of exactly w...</td>\n",
       "    </tr>\n",
       "    <tr>\n",
       "      <th>...</th>\n",
       "      <td>...</td>\n",
       "      <td>...</td>\n",
       "      <td>...</td>\n",
       "      <td>...</td>\n",
       "      <td>...</td>\n",
       "      <td>...</td>\n",
       "      <td>...</td>\n",
       "      <td>...</td>\n",
       "    </tr>\n",
       "    <tr>\n",
       "      <th>195</th>\n",
       "      <td>FTDA_1991_0928_0038_003</td>\n",
       "      <td>article</td>\n",
       "      <td>When the Gilded Youth Went to War</td>\n",
       "      <td>1991-09-28</td>\n",
       "      <td>The Financial Times</td>\n",
       "      <td>National Daily</td>\n",
       "      <td>National Daily</td>\n",
       "      <td>T SEEMS a pity that Sir Rupert Hart-Davis's Me...</td>\n",
       "    </tr>\n",
       "    <tr>\n",
       "      <th>196</th>\n",
       "      <td>FTDA_1991_0928_0038_004</td>\n",
       "      <td>article</td>\n",
       "      <td>A Ghost Lost in a Family Tree</td>\n",
       "      <td>1991-09-28</td>\n",
       "      <td>The Financial Times</td>\n",
       "      <td>National Daily</td>\n",
       "      <td>National Daily</td>\n",
       "      <td>Robertson Davies is clearly a writer who likes...</td>\n",
       "    </tr>\n",
       "    <tr>\n",
       "      <th>197</th>\n",
       "      <td>FTDA_1991_0928_0038_005</td>\n",
       "      <td>article</td>\n",
       "      <td>Sarah's Ambition</td>\n",
       "      <td>1991-09-28</td>\n",
       "      <td>The Financial Times</td>\n",
       "      <td>National Daily</td>\n",
       "      <td>National Daily</td>\n",
       "      <td>F RANCES Harris's book is aptly titled. The pa...</td>\n",
       "    </tr>\n",
       "    <tr>\n",
       "      <th>198</th>\n",
       "      <td>FTDA_1991_0928_0038_006</td>\n",
       "      <td>article</td>\n",
       "      <td>I11-at-ease in Hawaii</td>\n",
       "      <td>1991-09-28</td>\n",
       "      <td>The Financial Times</td>\n",
       "      <td>National Daily</td>\n",
       "      <td>National Daily</td>\n",
       "      <td>HOW FAR has he gone? Six novels back, Finbar, ...</td>\n",
       "    </tr>\n",
       "    <tr>\n",
       "      <th>202</th>\n",
       "      <td>FTDA_1991_0928_0039_004</td>\n",
       "      <td>article</td>\n",
       "      <td>Lautrec's Lineage</td>\n",
       "      <td>1991-09-28</td>\n",
       "      <td>The Financial Times</td>\n",
       "      <td>National Daily</td>\n",
       "      <td>National Daily</td>\n",
       "      <td>Before next month's Hayward Gallery exhibition...</td>\n",
       "    </tr>\n",
       "    <tr>\n",
       "      <th>216</th>\n",
       "      <td>FTDA_1991_0928_0043_001</td>\n",
       "      <td>article</td>\n",
       "      <td>Saturday</td>\n",
       "      <td>1991-09-28</td>\n",
       "      <td>The Financial Times</td>\n",
       "      <td>National Daily</td>\n",
       "      <td>National Daily</td>\n",
       "      <td>7.25 News. 7.30 Ovide. 7.40 Opposites Attract ...</td>\n",
       "    </tr>\n",
       "    <tr>\n",
       "      <th>217</th>\n",
       "      <td>FTDA_1991_0928_0043_002</td>\n",
       "      <td>article</td>\n",
       "      <td>Sunday</td>\n",
       "      <td>1991-09-28</td>\n",
       "      <td>The Financial Times</td>\n",
       "      <td>National Daily</td>\n",
       "      <td>National Daily</td>\n",
       "      <td>6.45 Open University. 8.50 Playdays. 9.10 News...</td>\n",
       "    </tr>\n",
       "    <tr>\n",
       "      <th>223</th>\n",
       "      <td>FTDA_1991_0928_0044_001</td>\n",
       "      <td>article</td>\n",
       "      <td>An Angry Young Conservative of the Left</td>\n",
       "      <td>1991-09-28</td>\n",
       "      <td>The Financial Times</td>\n",
       "      <td>National Daily</td>\n",
       "      <td>National Daily</td>\n",
       "      <td>THIRTEEN years ago James Callaghan, Labour's l...</td>\n",
       "    </tr>\n",
       "    <tr>\n",
       "      <th>224</th>\n",
       "      <td>FTDA_1991_0928_0044_002</td>\n",
       "      <td>article</td>\n",
       "      <td>Tea and Biscuits on top of the Eiger</td>\n",
       "      <td>1991-09-28</td>\n",
       "      <td>The Financial Times</td>\n",
       "      <td>National Daily</td>\n",
       "      <td>National Daily</td>\n",
       "      <td>NOWFALL ON canvas. I had heard this sound long...</td>\n",
       "    </tr>\n",
       "    <tr>\n",
       "      <th>225</th>\n",
       "      <td>FTDA_1991_0928_0044_003</td>\n",
       "      <td>article</td>\n",
       "      <td>Spine-chilling, Brain-numbing Thrill</td>\n",
       "      <td>1991-09-28</td>\n",
       "      <td>The Financial Times</td>\n",
       "      <td>National Daily</td>\n",
       "      <td>National Daily</td>\n",
       "      <td>Dominic Lawson weighs the exhilaration of boxi...</td>\n",
       "    </tr>\n",
       "    <tr>\n",
       "      <th>3</th>\n",
       "      <td>FTDA_1991_0930_0001_004</td>\n",
       "      <td>article</td>\n",
       "      <td>'Matchmaker' Plan for Small Businesses and Inv...</td>\n",
       "      <td>1991-09-30</td>\n",
       "      <td>The Financial Times</td>\n",
       "      <td>National Daily</td>\n",
       "      <td>National Daily</td>\n",
       "      <td>Plam ofI bur bet smi equ totb gov few ben year...</td>\n",
       "    </tr>\n",
       "    <tr>\n",
       "      <th>37</th>\n",
       "      <td>FTDA_1991_0930_0006_005</td>\n",
       "      <td>article</td>\n",
       "      <td>Youth 'Non-employment' in Britain and France</td>\n",
       "      <td>1991-09-30</td>\n",
       "      <td>The Financial Times</td>\n",
       "      <td>National Daily</td>\n",
       "      <td>National Daily</td>\n",
       "      <td>Youth unemployment and employment, mates aged ...</td>\n",
       "    </tr>\n",
       "    <tr>\n",
       "      <th>42</th>\n",
       "      <td>FTDA_1991_0930_0008_001</td>\n",
       "      <td>article</td>\n",
       "      <td>Specialists Urge Stronger Action on Public Health</td>\n",
       "      <td>1991-09-30</td>\n",
       "      <td>The Financial Times</td>\n",
       "      <td>National Daily</td>\n",
       "      <td>National Daily</td>\n",
       "      <td>By Alan Pike, Social Affairs Correspondent THE...</td>\n",
       "    </tr>\n",
       "    <tr>\n",
       "      <th>55</th>\n",
       "      <td>FTDA_1991_0930_0010_001</td>\n",
       "      <td>article</td>\n",
       "      <td>News in Brief</td>\n",
       "      <td>1991-09-30</td>\n",
       "      <td>The Financial Times</td>\n",
       "      <td>National Daily</td>\n",
       "      <td>National Daily</td>\n",
       "      <td>* WOMEN: Delegates rejected an attempt to requ...</td>\n",
       "    </tr>\n",
       "    <tr>\n",
       "      <th>56</th>\n",
       "      <td>FTDA_1991_0930_0010_002</td>\n",
       "      <td>article</td>\n",
       "      <td>Sawyer's 'Quiet Revolution'</td>\n",
       "      <td>1991-09-30</td>\n",
       "      <td>The Financial Times</td>\n",
       "      <td>National Daily</td>\n",
       "      <td>National Daily</td>\n",
       "      <td>THE MASTER of ceremonies for Labour's week at ...</td>\n",
       "    </tr>\n",
       "    <tr>\n",
       "      <th>58</th>\n",
       "      <td>FTDA_1991_0930_0010_004</td>\n",
       "      <td>article</td>\n",
       "      <td>Little Support for Nellist and Fields</td>\n",
       "      <td>1991-09-30</td>\n",
       "      <td>The Financial Times</td>\n",
       "      <td>National Daily</td>\n",
       "      <td>National Daily</td>\n",
       "      <td>THE ANGER of those supporting Mr Dave Nellist ...</td>\n",
       "    </tr>\n",
       "    <tr>\n",
       "      <th>91</th>\n",
       "      <td>FTDA_1991_0930_0017_001</td>\n",
       "      <td>article</td>\n",
       "      <td>Mazda</td>\n",
       "      <td>1991-09-30</td>\n",
       "      <td>The Financial Times</td>\n",
       "      <td>National Daily</td>\n",
       "      <td>National Daily</td>\n",
       "      <td>The seed of a grape is a promise that man cult...</td>\n",
       "    </tr>\n",
       "    <tr>\n",
       "      <th>97</th>\n",
       "      <td>FTDA_1991_0930_0018_003</td>\n",
       "      <td>article</td>\n",
       "      <td>Draw of the Games</td>\n",
       "      <td>1991-09-30</td>\n",
       "      <td>The Financial Times</td>\n",
       "      <td>National Daily</td>\n",
       "      <td>National Daily</td>\n",
       "      <td>John Ridding on the growing tourist industry E...</td>\n",
       "    </tr>\n",
       "    <tr>\n",
       "      <th>98</th>\n",
       "      <td>FTDA_1991_0930_0018_004</td>\n",
       "      <td>article</td>\n",
       "      <td>Lessons of the past</td>\n",
       "      <td>1991-09-30</td>\n",
       "      <td>The Financial Times</td>\n",
       "      <td>National Daily</td>\n",
       "      <td>National Daily</td>\n",
       "      <td>EACH YEAR on August 6 thousands of Japanese an...</td>\n",
       "    </tr>\n",
       "    <tr>\n",
       "      <th>101</th>\n",
       "      <td>FTDA_1991_0930_0019_003</td>\n",
       "      <td>article</td>\n",
       "      <td>Miles Davis</td>\n",
       "      <td>1991-09-30</td>\n",
       "      <td>The Financial Times</td>\n",
       "      <td>National Daily</td>\n",
       "      <td>National Daily</td>\n",
       "      <td>Miles Davis, the jazz trumpeter, died in hospi...</td>\n",
       "    </tr>\n",
       "    <tr>\n",
       "      <th>102</th>\n",
       "      <td>FTDA_1991_0930_0019_004</td>\n",
       "      <td>article</td>\n",
       "      <td>October Jazz in the Uk - and Ireland</td>\n",
       "      <td>1991-09-30</td>\n",
       "      <td>The Financial Times</td>\n",
       "      <td>National Daily</td>\n",
       "      <td>National Daily</td>\n",
       "      <td>The 20th season of the Arts Council's Contempo...</td>\n",
       "    </tr>\n",
       "    <tr>\n",
       "      <th>103</th>\n",
       "      <td>FTDA_1991_0930_0019_005</td>\n",
       "      <td>article</td>\n",
       "      <td>Arts</td>\n",
       "      <td>1991-09-30</td>\n",
       "      <td>The Financial Times</td>\n",
       "      <td>National Daily</td>\n",
       "      <td>National Daily</td>\n",
       "      <td>IDOCKENIEIMUIER DEPOT, FRANKFURT The miracle a...</td>\n",
       "    </tr>\n",
       "    <tr>\n",
       "      <th>104</th>\n",
       "      <td>FTDA_1991_0930_0019_006</td>\n",
       "      <td>article</td>\n",
       "      <td>'BÃ©atrice Et BÃ©nÃ©dict'</td>\n",
       "      <td>1991-09-30</td>\n",
       "      <td>The Financial Times</td>\n",
       "      <td>National Daily</td>\n",
       "      <td>National Daily</td>\n",
       "      <td>BIENNALE DE LA MUSIQUE FRANQAISK, LYON Berlioz...</td>\n",
       "    </tr>\n",
       "    <tr>\n",
       "      <th>109</th>\n",
       "      <td>FTDA_1991_0930_0020_003</td>\n",
       "      <td>article</td>\n",
       "      <td>Protecting the Small Investor</td>\n",
       "      <td>1991-09-30</td>\n",
       "      <td>The Financial Times</td>\n",
       "      <td>National Daily</td>\n",
       "      <td>National Daily</td>\n",
       "      <td>EARLIER this month the Securities and Investme...</td>\n",
       "    </tr>\n",
       "    <tr>\n",
       "      <th>113</th>\n",
       "      <td>FTDA_1991_0930_0021_001</td>\n",
       "      <td>article</td>\n",
       "      <td>Final Chapter for Book Price Accord</td>\n",
       "      <td>1991-09-30</td>\n",
       "      <td>The Financial Times</td>\n",
       "      <td>National Daily</td>\n",
       "      <td>National Daily</td>\n",
       "      <td>Alice Rawsthorn and Raymond Snoddy on the late...</td>\n",
       "    </tr>\n",
       "    <tr>\n",
       "      <th>118</th>\n",
       "      <td>FTDA_1991_0930_0022_002</td>\n",
       "      <td>article</td>\n",
       "      <td>Romanians Attempt to Forge Coalition</td>\n",
       "      <td>1991-09-30</td>\n",
       "      <td>The Financial Times</td>\n",
       "      <td>National Daily</td>\n",
       "      <td>National Daily</td>\n",
       "      <td>By Judy Dempsey in Bucharest ROMANIA'S preside...</td>\n",
       "    </tr>\n",
       "    <tr>\n",
       "      <th>132</th>\n",
       "      <td>FTDA_1991_0930_0023_005</td>\n",
       "      <td>article</td>\n",
       "      <td>The Odd Couple of the Computer World</td>\n",
       "      <td>1991-09-30</td>\n",
       "      <td>The Financial Times</td>\n",
       "      <td>National Daily</td>\n",
       "      <td>National Daily</td>\n",
       "      <td>ohn Sculley opens his brief- case like a conju...</td>\n",
       "    </tr>\n",
       "    <tr>\n",
       "      <th>133</th>\n",
       "      <td>FTDA_1991_0930_0023_006</td>\n",
       "      <td>article</td>\n",
       "      <td>Sa Fund Fails to Tempt Investors</td>\n",
       "      <td>1991-09-30</td>\n",
       "      <td>The Financial Times</td>\n",
       "      <td>National Daily</td>\n",
       "      <td>National Daily</td>\n",
       "      <td>By Sara Webb and Richard Waters THE first inve...</td>\n",
       "    </tr>\n",
       "    <tr>\n",
       "      <th>162</th>\n",
       "      <td>FTDA_1991_0930_0027_004</td>\n",
       "      <td>article</td>\n",
       "      <td>New International Bond Issues</td>\n",
       "      <td>1991-09-30</td>\n",
       "      <td>The Financial Times</td>\n",
       "      <td>National Daily</td>\n",
       "      <td>National Daily</td>\n",
       "      <td>Borrowers US DOLLARS Daiwa Kosho Lease(b)*t Ki...</td>\n",
       "    </tr>\n",
       "    <tr>\n",
       "      <th>166</th>\n",
       "      <td>FTDA_1991_0930_0029_001</td>\n",
       "      <td>article</td>\n",
       "      <td>Ft Managed Funds Service</td>\n",
       "      <td>1991-09-30</td>\n",
       "      <td>The Financial Times</td>\n",
       "      <td>National Daily</td>\n",
       "      <td>National Daily</td>\n",
       "      <td>AUTH UNIT Cah aelftean = FuolndIn tIn Gilt&amp;Fed...</td>\n",
       "    </tr>\n",
       "  </tbody>\n",
       "</table>\n",
       "<p>710 rows × 8 columns</p>\n",
       "</div>"
      ],
      "text/plain": [
       "                         _id article_dc_subject  \\\n",
       "44   FTDA_1939_0901_0004_005            article   \n",
       "53   FTDA_1939_0901_0004_014            article   \n",
       "72   FTDA_1939_0901_0005_017            article   \n",
       "29   FTDA_1939_0902_0003_009            article   \n",
       "58   FTDA_1939_0902_0004_018            article   \n",
       "62   FTDA_1939_0902_0005_002            article   \n",
       "19   FTDA_1939_0904_0002_004            article   \n",
       "55   FTDA_1939_0904_0003_017            article   \n",
       "57   FTDA_1939_0905_0003_024            article   \n",
       "48   FTDA_1939_0906_0003_015            article   \n",
       "34   FTDA_1939_0907_0002_017            article   \n",
       "25   FTDA_1939_0908_0002_009            article   \n",
       "23   FTDA_1939_0909_0002_002            article   \n",
       "38   FTDA_1939_0911_0002_016            article   \n",
       "45   FTDA_1939_0911_0002_023            article   \n",
       "11   FTDA_1939_0913_0001_012            article   \n",
       "16   FTDA_1939_0913_0001_017            article   \n",
       "26   FTDA_1939_0913_0002_010            article   \n",
       "18   FTDA_1939_0914_0001_019            article   \n",
       "54   FTDA_1939_0914_0003_016            article   \n",
       "22   FTDA_1939_0915_0002_002            article   \n",
       "26   FTDA_1939_0915_0002_006            article   \n",
       "62   FTDA_1939_0915_0003_031            article   \n",
       "28   FTDA_1939_0918_0002_010            article   \n",
       "47   FTDA_1939_0918_0002_029            article   \n",
       "67   FTDA_1939_0918_0003_019            article   \n",
       "28   FTDA_1939_0921_0002_011            article   \n",
       "35   FTDA_1939_0923_0003_007            article   \n",
       "32   FTDA_1939_0925_0002_011            article   \n",
       "58   FTDA_1939_0925_0003_017            article   \n",
       "..                       ...                ...   \n",
       "195  FTDA_1991_0928_0038_003            article   \n",
       "196  FTDA_1991_0928_0038_004            article   \n",
       "197  FTDA_1991_0928_0038_005            article   \n",
       "198  FTDA_1991_0928_0038_006            article   \n",
       "202  FTDA_1991_0928_0039_004            article   \n",
       "216  FTDA_1991_0928_0043_001            article   \n",
       "217  FTDA_1991_0928_0043_002            article   \n",
       "223  FTDA_1991_0928_0044_001            article   \n",
       "224  FTDA_1991_0928_0044_002            article   \n",
       "225  FTDA_1991_0928_0044_003            article   \n",
       "3    FTDA_1991_0930_0001_004            article   \n",
       "37   FTDA_1991_0930_0006_005            article   \n",
       "42   FTDA_1991_0930_0008_001            article   \n",
       "55   FTDA_1991_0930_0010_001            article   \n",
       "56   FTDA_1991_0930_0010_002            article   \n",
       "58   FTDA_1991_0930_0010_004            article   \n",
       "91   FTDA_1991_0930_0017_001            article   \n",
       "97   FTDA_1991_0930_0018_003            article   \n",
       "98   FTDA_1991_0930_0018_004            article   \n",
       "101  FTDA_1991_0930_0019_003            article   \n",
       "102  FTDA_1991_0930_0019_004            article   \n",
       "103  FTDA_1991_0930_0019_005            article   \n",
       "104  FTDA_1991_0930_0019_006            article   \n",
       "109  FTDA_1991_0930_0020_003            article   \n",
       "113  FTDA_1991_0930_0021_001            article   \n",
       "118  FTDA_1991_0930_0022_002            article   \n",
       "132  FTDA_1991_0930_0023_005            article   \n",
       "133  FTDA_1991_0930_0023_006            article   \n",
       "162  FTDA_1991_0930_0027_004            article   \n",
       "166  FTDA_1991_0930_0029_001            article   \n",
       "\n",
       "                                      article_dc_title paper_dc_date  \\\n",
       "44                                Prudential Assurance    1939-09-01   \n",
       "53                         Plate Freight Rate Advances    1939-09-01   \n",
       "72                             Rand Profits Limitation    1939-09-01   \n",
       "29                                            Obituary    1939-09-02   \n",
       "58                                 Multiple News Items    1939-09-02   \n",
       "62         Maximum Interest of 5% Â£500,000,000 Credit    1939-09-02   \n",
       "19                    Commodity Markets and the Crisis    1939-09-04   \n",
       "55                                  Notrade with Enemy    1939-09-04   \n",
       "57                                            Obituary    1939-09-05   \n",
       "48                               Mr. D. Christopherson    1939-09-06   \n",
       "34                                    Company Meetings    1939-09-07   \n",
       "25                                  Tindals Gold Mines    1939-09-08   \n",
       "23                                  A Dividend Problem    1939-09-09   \n",
       "38                                           Obiturary    1939-09-11   \n",
       "45                                 Currency Export Ban    1939-09-11   \n",
       "11               Budget Doubts Restrict S. E. Activity    1939-09-13   \n",
       "16      Guaranty Exectutor and Trustee Company Limited    1939-09-13   \n",
       "26                                    Eagle Star Offer    1939-09-13   \n",
       "18    Adjustment of Open Position Leaves Markets Quiet    1939-09-14   \n",
       "54                   Nchanga Consolidated Copper Mines    1939-09-14   \n",
       "22                            An Ineffective Bank Rate    1939-09-15   \n",
       "26                                          New Modder    1939-09-15   \n",
       "62                             Mr. Walter Howell Idris    1939-09-15   \n",
       "28                             Hedge against War Risks    1939-09-18   \n",
       "47                                  Mr. Walter Morison    1939-09-18   \n",
       "67                               Mining Market Outlook    1939-09-18   \n",
       "28                                       Board Changes    1939-09-21   \n",
       "35                      Taxation Changes in War Budget    1939-09-23   \n",
       "32                                City Men and Matters    1939-09-25   \n",
       "58                                 Mining Market Notes    1939-09-25   \n",
       "..                                                 ...           ...   \n",
       "195                  When the Gilded Youth Went to War    1991-09-28   \n",
       "196                      A Ghost Lost in a Family Tree    1991-09-28   \n",
       "197                                   Sarah's Ambition    1991-09-28   \n",
       "198                              I11-at-ease in Hawaii    1991-09-28   \n",
       "202                                  Lautrec's Lineage    1991-09-28   \n",
       "216                                           Saturday    1991-09-28   \n",
       "217                                             Sunday    1991-09-28   \n",
       "223            An Angry Young Conservative of the Left    1991-09-28   \n",
       "224               Tea and Biscuits on top of the Eiger    1991-09-28   \n",
       "225               Spine-chilling, Brain-numbing Thrill    1991-09-28   \n",
       "3    'Matchmaker' Plan for Small Businesses and Inv...    1991-09-30   \n",
       "37        Youth 'Non-employment' in Britain and France    1991-09-30   \n",
       "42   Specialists Urge Stronger Action on Public Health    1991-09-30   \n",
       "55                                       News in Brief    1991-09-30   \n",
       "56                         Sawyer's 'Quiet Revolution'    1991-09-30   \n",
       "58               Little Support for Nellist and Fields    1991-09-30   \n",
       "91                                               Mazda    1991-09-30   \n",
       "97                                   Draw of the Games    1991-09-30   \n",
       "98                                 Lessons of the past    1991-09-30   \n",
       "101                                        Miles Davis    1991-09-30   \n",
       "102               October Jazz in the Uk - and Ireland    1991-09-30   \n",
       "103                                               Arts    1991-09-30   \n",
       "104                          'BÃ©atrice Et BÃ©nÃ©dict'    1991-09-30   \n",
       "109                      Protecting the Small Investor    1991-09-30   \n",
       "113                Final Chapter for Book Price Accord    1991-09-30   \n",
       "118               Romanians Attempt to Forge Coalition    1991-09-30   \n",
       "132               The Odd Couple of the Computer World    1991-09-30   \n",
       "133                   Sa Fund Fails to Tempt Investors    1991-09-30   \n",
       "162                      New International Bond Issues    1991-09-30   \n",
       "166                           Ft Managed Funds Service    1991-09-30   \n",
       "\n",
       "          paper_dc_title paper_dcterms_spatial paper_dcterms_temporal  \\\n",
       "44   The Financial Times        National Daily         National Daily   \n",
       "53   The Financial Times        National Daily         National Daily   \n",
       "72   The Financial Times        National Daily         National Daily   \n",
       "29   The Financial Times        National Daily         National Daily   \n",
       "58   The Financial Times        National Daily         National Daily   \n",
       "62   The Financial Times        National Daily         National Daily   \n",
       "19   The Financial Times        National Daily         National Daily   \n",
       "55   The Financial Times        National Daily         National Daily   \n",
       "57   The Financial Times        National Daily         National Daily   \n",
       "48   The Financial Times        National Daily         National Daily   \n",
       "34   The Financial Times        National Daily         National Daily   \n",
       "25   The Financial Times        National Daily         National Daily   \n",
       "23   The Financial Times        National Daily         National Daily   \n",
       "38   The Financial Times        National Daily         National Daily   \n",
       "45   The Financial Times        National Daily         National Daily   \n",
       "11   The Financial Times        National Daily         National Daily   \n",
       "16   The Financial Times        National Daily         National Daily   \n",
       "26   The Financial Times        National Daily         National Daily   \n",
       "18   The Financial Times        National Daily         National Daily   \n",
       "54   The Financial Times        National Daily         National Daily   \n",
       "22   The Financial Times        National Daily         National Daily   \n",
       "26   The Financial Times        National Daily         National Daily   \n",
       "62   The Financial Times        National Daily         National Daily   \n",
       "28   The Financial Times        National Daily         National Daily   \n",
       "47   The Financial Times        National Daily         National Daily   \n",
       "67   The Financial Times        National Daily         National Daily   \n",
       "28   The Financial Times        National Daily         National Daily   \n",
       "35   The Financial Times        National Daily         National Daily   \n",
       "32   The Financial Times        National Daily         National Daily   \n",
       "58   The Financial Times        National Daily         National Daily   \n",
       "..                   ...                   ...                    ...   \n",
       "195  The Financial Times        National Daily         National Daily   \n",
       "196  The Financial Times        National Daily         National Daily   \n",
       "197  The Financial Times        National Daily         National Daily   \n",
       "198  The Financial Times        National Daily         National Daily   \n",
       "202  The Financial Times        National Daily         National Daily   \n",
       "216  The Financial Times        National Daily         National Daily   \n",
       "217  The Financial Times        National Daily         National Daily   \n",
       "223  The Financial Times        National Daily         National Daily   \n",
       "224  The Financial Times        National Daily         National Daily   \n",
       "225  The Financial Times        National Daily         National Daily   \n",
       "3    The Financial Times        National Daily         National Daily   \n",
       "37   The Financial Times        National Daily         National Daily   \n",
       "42   The Financial Times        National Daily         National Daily   \n",
       "55   The Financial Times        National Daily         National Daily   \n",
       "56   The Financial Times        National Daily         National Daily   \n",
       "58   The Financial Times        National Daily         National Daily   \n",
       "91   The Financial Times        National Daily         National Daily   \n",
       "97   The Financial Times        National Daily         National Daily   \n",
       "98   The Financial Times        National Daily         National Daily   \n",
       "101  The Financial Times        National Daily         National Daily   \n",
       "102  The Financial Times        National Daily         National Daily   \n",
       "103  The Financial Times        National Daily         National Daily   \n",
       "104  The Financial Times        National Daily         National Daily   \n",
       "109  The Financial Times        National Daily         National Daily   \n",
       "113  The Financial Times        National Daily         National Daily   \n",
       "118  The Financial Times        National Daily         National Daily   \n",
       "132  The Financial Times        National Daily         National Daily   \n",
       "133  The Financial Times        National Daily         National Daily   \n",
       "162  The Financial Times        National Daily         National Daily   \n",
       "166  The Financial Times        National Daily         National Daily   \n",
       "\n",
       "                                          text_content  \n",
       "44   The decision of the directors of the Prudentia...  \n",
       "53   PLATE FREIGHT RATE ADVANCES UP 5s A TON Althou...  \n",
       "72   From OUR OWN CORRESPONDENT JOHANNESBURG, 31st ...  \n",
       "29   The death has occurrud at Elie, Fife- shire, o...  \n",
       "58   SBETTS AND CO. Mr. Douglass Hewitt, of Betts a...  \n",
       "62   SIR JOHN SIMON, Chancellor of the Exchequer, i...  \n",
       "19   Apart from dealings in wheat, cotton and sugar...  \n",
       "55   Traders, shipowners and others are warned in a...  \n",
       "57   OBITUARY SIR ALFRED TRITTON The death is annou...  \n",
       "48   Mr. Douglas Christopherson has been appointed ...  \n",
       "34   The fifth annual, meeting of the members of Al...  \n",
       "25   The third annual ordinary general meet- ing of...  \n",
       "23   The Boards of industrial concerns must be unde...  \n",
       "38   SIR PAUL MAKINS Sir Paul Augustine Makins died...  \n",
       "45   In accord with the Government's plans to maint...  \n",
       "11   TUESDAY Evening. Budget uncertainties prevente...  \n",
       "16   i Guaranty Executor and Trustee Company Limite...  \n",
       "26   The offer of Eagle Star Insurance Com- pany to...  \n",
       "18   WEDNESDAY Evening. Nothing occurred to-day to ...  \n",
       "54   WORK ON PROPERTY PROGRESS ACCORDING TO PLAN .M...  \n",
       "22   When Bank Rate was doubled to Four per Cent. o...  \n",
       "26   The reduction in the total dividend of New Mod...  \n",
       "62   OBITUARY MR. WALTER HOWELL ODRIs- In London. C...  \n",
       "28   By our INSURANCE CORRESPONDENT As was pointed ...  \n",
       "47   The death has occurred at Felixstowe after a s...  \n",
       "67   By THE MINING EDITOR There being a larger rati...  \n",
       "28   Wr.iU G01or.n C(emonrAIiso Follox in the death...  \n",
       "35   By our POLITICAL CORRESPONDENT The impression ...  \n",
       "32   A HEARTENING influence on the City during the ...  \n",
       "58   By THE MINING EDITOR The question of exactly w...  \n",
       "..                                                 ...  \n",
       "195  T SEEMS a pity that Sir Rupert Hart-Davis's Me...  \n",
       "196  Robertson Davies is clearly a writer who likes...  \n",
       "197  F RANCES Harris's book is aptly titled. The pa...  \n",
       "198  HOW FAR has he gone? Six novels back, Finbar, ...  \n",
       "202  Before next month's Hayward Gallery exhibition...  \n",
       "216  7.25 News. 7.30 Ovide. 7.40 Opposites Attract ...  \n",
       "217  6.45 Open University. 8.50 Playdays. 9.10 News...  \n",
       "223  THIRTEEN years ago James Callaghan, Labour's l...  \n",
       "224  NOWFALL ON canvas. I had heard this sound long...  \n",
       "225  Dominic Lawson weighs the exhilaration of boxi...  \n",
       "3    Plam ofI bur bet smi equ totb gov few ben year...  \n",
       "37   Youth unemployment and employment, mates aged ...  \n",
       "42   By Alan Pike, Social Affairs Correspondent THE...  \n",
       "55   * WOMEN: Delegates rejected an attempt to requ...  \n",
       "56   THE MASTER of ceremonies for Labour's week at ...  \n",
       "58   THE ANGER of those supporting Mr Dave Nellist ...  \n",
       "91   The seed of a grape is a promise that man cult...  \n",
       "97   John Ridding on the growing tourist industry E...  \n",
       "98   EACH YEAR on August 6 thousands of Japanese an...  \n",
       "101  Miles Davis, the jazz trumpeter, died in hospi...  \n",
       "102  The 20th season of the Arts Council's Contempo...  \n",
       "103  IDOCKENIEIMUIER DEPOT, FRANKFURT The miracle a...  \n",
       "104  BIENNALE DE LA MUSIQUE FRANQAISK, LYON Berlioz...  \n",
       "109  EARLIER this month the Securities and Investme...  \n",
       "113  Alice Rawsthorn and Raymond Snoddy on the late...  \n",
       "118  By Judy Dempsey in Bucharest ROMANIA'S preside...  \n",
       "132  ohn Sculley opens his brief- case like a conju...  \n",
       "133  By Sara Webb and Richard Waters THE first inve...  \n",
       "162  Borrowers US DOLLARS Daiwa Kosho Lease(b)*t Ki...  \n",
       "166  AUTH UNIT Cah aelftean = FuolndIn tIn Gilt&Fed...  \n",
       "\n",
       "[710 rows x 8 columns]"
      ]
     },
     "execution_count": 15,
     "metadata": {},
     "output_type": "execute_result"
    }
   ],
   "source": [
    "df[df[\"text_content\"].str.contains(\"life | death\")]"
   ]
  },
  {
   "cell_type": "markdown",
   "metadata": {},
   "source": [
    "---\n"
   ]
  },
  {
   "cell_type": "markdown",
   "metadata": {},
   "source": [
    "## 2. WORKING WITH DATES\n",
    "\n",
    "If we want to study changes over time, we need a variable that indicates time.  \n",
    "In this case we will use the 'date' column.  \n",
    "There are two main approaches if you want to work with dates. "
   ]
  },
  {
   "cell_type": "markdown",
   "metadata": {},
   "source": [
    "### 2.1. Setting the date column as an index\n",
    "For this approach, we convert the column with the dates to an index based on dates.  \n",
    "By default the index is a list of number linked to each row.  \n",
    "We can then use this index as a variable. "
   ]
  },
  {
   "cell_type": "code",
   "execution_count": 16,
   "metadata": {
    "collapsed": true
   },
   "outputs": [],
   "source": [
    "#the function to_datetime tells Pandas that the column includes dates\n",
    "df['paper_dc_date'] = pd.to_datetime(df['paper_dc_date']) \n",
    "\n",
    "#the function set_index tells Pandas to use the 'date' column as the index. \n",
    "#By specifying the drop parameter as 'False' we tell Pandas to keep the original column with the dates. \n",
    "#Otherwise this column is removed. Since we need it for the Second Approach, we want to keep it. \n",
    "df = df.set_index(['paper_dc_date'], drop=False)"
   ]
  },
  {
   "cell_type": "markdown",
   "metadata": {},
   "source": [
    "__Inspect the dataframe to see what has changed__"
   ]
  },
  {
   "cell_type": "markdown",
   "metadata": {},
   "source": [
    "--- "
   ]
  },
  {
   "cell_type": "markdown",
   "metadata": {},
   "source": [
    "### 2.2. Turning elements of the dates in separate variables\n",
    "For this approach we will take elements from the date column and turn those into separate variables.  \n",
    "For instance, turn the number of the month into a separate column, and the day of the week.  \n",
    "The following line of code creates a column 'day' with the numbers of the day in the month.\n",
    "```\n",
    "df['day'] = df['paper_dc_date'].dt.day \n",
    "```\n",
    "\n",
    "--- "
   ]
  },
  {
   "cell_type": "code",
   "execution_count": 5,
   "metadata": {
    "collapsed": true
   },
   "outputs": [],
   "source": [
    "df['day'] = df['paper_dc_date'].dt.day\n",
    "df['week'] = df['paper_dc_date'].dt.week\n",
    "df['year'] = df['paper_dc_date'].dt.year"
   ]
  },
  {
   "cell_type": "markdown",
   "metadata": {},
   "source": [
    "### Assignment 3: Making columns with date information\n",
    "Make new columns that contains the number of the week, month, and year.  \n",
    "Which of these columns is redundant for our dataset? "
   ]
  },
  {
   "cell_type": "markdown",
   "metadata": {},
   "source": [
    "---"
   ]
  },
  {
   "cell_type": "markdown",
   "metadata": {},
   "source": [
    "We can now use both the index and the columns with date information to plot graphs on a temporal axis.  \n",
    "But before we start doing this we need to generate some additional statistics about the dataset that we can plot over time."
   ]
  },
  {
   "cell_type": "markdown",
   "metadata": {},
   "source": [
    "---"
   ]
  },
  {
   "cell_type": "markdown",
   "metadata": {
    "collapsed": true
   },
   "source": [
    "## 3. GENERATING TEXT STATISTICS\n",
    "\n",
    "For this workshop, we will generate some basic descriptive statistics about the articles in the Financial Times.  \n",
    "We will use this information to generate the graphs in the remainder of this workshop. "
   ]
  },
  {
   "cell_type": "code",
   "execution_count": 6,
   "metadata": {
    "collapsed": true
   },
   "outputs": [],
   "source": [
    "#calculate length of articles\n",
    "df['article_length'] = df['text_content'].str.len()\n",
    "\n",
    "#calculate mean length per day\n",
    "df['mean_article_length'] = df['article_length'].groupby(pd.TimeGrouper('D')).aggregate(np.mean).dropna()"
   ]
  },
  {
   "cell_type": "code",
   "execution_count": 7,
   "metadata": {
    "collapsed": true
   },
   "outputs": [],
   "source": [
    "#calculate number of words\n",
    "def word_counter(row):\n",
    "    tokens = row[\"text_content\"].split(\" \")\n",
    "    return len(tokens)\n",
    "\n",
    "df[\"number_of_words\"] = df.apply(word_counter, axis=1)\n",
    "\n",
    "#calculate mean number of words per day\n",
    "df['mean_number_of_words'] = df['number_of_words'].groupby(pd.TimeGrouper('D')).aggregate(np.mean).dropna()"
   ]
  },
  {
   "cell_type": "markdown",
   "metadata": {},
   "source": [
    "__Inspect the new columns in the dataframe__"
   ]
  },
  {
   "cell_type": "markdown",
   "metadata": {},
   "source": [
    "---"
   ]
  },
  {
   "cell_type": "markdown",
   "metadata": {},
   "source": [
    "## 4. VISUALIZING DESCRIPTIVE TEXT STATISTICS"
   ]
  },
  {
   "cell_type": "markdown",
   "metadata": {},
   "source": [
    "For plotting we are going to be using Matplotlib and the Pandas extension build on this library.  \n",
    "\n",
    "We'll start by import the matplotlib library into python."
   ]
  },
  {
   "cell_type": "code",
   "execution_count": 8,
   "metadata": {
    "collapsed": true
   },
   "outputs": [],
   "source": [
    "#this imports the library as plt\n",
    "import matplotlib.pyplot as plt \n",
    "#this tells Jupyter Notebook to show the graph inside the notebook\n",
    "%matplotlib inline "
   ]
  },
  {
   "cell_type": "code",
   "execution_count": 9,
   "metadata": {
    "collapsed": false
   },
   "outputs": [
    {
     "data": {
      "image/png": "[encoded data removed]",
      "text/plain": [
       "<matplotlib.figure.Figure at 0x10bbd75f8>"
      ]
     },
     "metadata": {},
     "output_type": "display_data"
    }
   ],
   "source": [
    "plt.plot()\n",
    "#this shows the graph. In Jupyter this happens automatically after plt.plot, but it's good practice to include it\n",
    "plt.show() "
   ]
  },
  {
   "cell_type": "markdown",
   "metadata": {},
   "source": [
    "This yields an empty plot. <br/>\n",
    "This is because we have only told python to show a plot, but we haven't provided it with what to plot and how to plot it.\n",
    "\n",
    "---"
   ]
  },
  {
   "cell_type": "markdown",
   "metadata": {},
   "source": [
    "## 4.1. Line Graphs\n",
    "\n",
    "We can call Matplotlib using plt (since we loaded the library as plt).  \n",
    "The function to plot line graphs in matplotlib is:\n",
    "\n",
    "```\n",
    "plt.plot(x_values, y_values)\n",
    "```\n",
    "\n",
    "Matplotlib will accept any iterable object, like NumPy arrays and pandas.Series instances as input for a line graph.\n",
    "\n",
    "### Assignment 4: Generating Line Graphs\n",
    "\n",
    "We will now generate two line graphs for the year 1991 using two different statistics. \n",
    "\n",
    "* Generate a line graph for the year 1991 that shows the date on the x-axis and the length of the articles on the y-axis\n",
    "* Generate a line graph for the year 1991 that shows the date on the x-axis and the mean number of words in the articles on the y-axis\n",
    "\n",
    "__Tip__:\n",
    "\n",
    "* Remember we set the date as the index. You can access the index using ```df.index```\n",
    "* You can select a year using ```df['1966']```\n",
    "* To select the index for a particular year you need to type ```df['1966'].index```\n",
    "* To select a particular column in a year you can use ```df['1996']['newspaper_title']```\n",
    "* Remember to always close with ```plt.show()```\n"
   ]
  },
  {
   "cell_type": "code",
   "execution_count": 10,
   "metadata": {
    "collapsed": false
   },
   "outputs": [
    {
     "data": {
      "image/png": "[encoded data removed]",
      "text/plain": [
       "<matplotlib.figure.Figure at 0x10bb440f0>"
      ]
     },
     "metadata": {},
     "output_type": "display_data"
    }
   ],
   "source": [
    "plt.plot(df['1991'].index, df['1991']['mean_article_length'])\n",
    "plt.show()"
   ]
  },
  {
   "cell_type": "markdown",
   "metadata": {
    "scrolled": true
   },
   "source": [
    "--- "
   ]
  },
  {
   "cell_type": "markdown",
   "metadata": {},
   "source": [
    "The x-axis for the graph we generated is not very readable.   \n",
    "One way to fix this is to turn the labels on the x-axis.  \n",
    "We can do this with the xticks function. \n",
    "\n",
    "```\n",
    "matplotlib.pyplot.xticks()\n",
    "```\n",
    "Graphing includes a lot of Googling and reading documentation.  \n",
    "Try and see if you can figure out how to rotate the xticks here: http://matplotlib.org/api/pyplot_api.html#matplotlib.pyplot.xticks"
   ]
  },
  {
   "cell_type": "markdown",
   "metadata": {},
   "source": [
    "### Assignment 5 \n",
    "* Generate a line graph for 1991 that shows the __date__ on the x-axis and the __mean length of the articles__ on the y-axis.  \n",
    "* But also rotate the x-axis with __90 degrees__.  \n",
    "* Reflect on what the graph shows us and note this down in a Markdown cell."
   ]
  },
  {
   "cell_type": "code",
   "execution_count": 11,
   "metadata": {
    "collapsed": false
   },
   "outputs": [
    {
     "data": {
      "image/png": "[encoded data removed]",
      "text/plain": [
       "<matplotlib.figure.Figure at 0x10ab38550>"
      ]
     },
     "metadata": {},
     "output_type": "display_data"
    }
   ],
   "source": [
    "plt.plot(df['1991'].index, df['1991']['mean_article_length'])\n",
    "plt.xticks(rotation=90)\n",
    "plt.show()"
   ]
  },
  {
   "cell_type": "markdown",
   "metadata": {},
   "source": [
    "### Make the graph a little fancier\n",
    "We still need to add labels to the x-axis and the y-axis, and we need to give the graph a title.  \n",
    "* To set the x-axis label we can pass a string to the function: ```xlabel()```  \n",
    "* For the y-axis label, pass a string value to: ```ylabel()```  \n",
    "* To give the graph a title pass a string value to: ```title()```  \n",
    "\n",
    "__Tip__: To call a function for matplotlib use ```plt.xlabel()```\n",
    "\n",
    "### Assignment 6### \n",
    "\n",
    "* Generate a line graph for 1991 that plots the mean length of the articles.  \n",
    "* Rotate the labels \n",
    "* Give the graph a title \n",
    "* Label the x-axis and y-axis.\n",
    "\n",
    "__Tip__: You can copy parts of your earlier code"
   ]
  },
  {
   "cell_type": "code",
   "execution_count": 12,
   "metadata": {
    "collapsed": false
   },
   "outputs": [
    {
     "data": {
      "image/png": "[encoded data removed]",
      "text/plain": [
       "<matplotlib.figure.Figure at 0x10bc24518>"
      ]
     },
     "metadata": {},
     "output_type": "display_data"
    }
   ],
   "source": [
    "plt.plot(df['1991'].index, df['1991']['mean_article_length'])\n",
    "plt.xticks(rotation=45)\n",
    "plt.xlabel(\"date\")\n",
    "plt.ylabel(\"Mean length\")\n",
    "plt.title(\"Mean Article Length over Time\")\n",
    "plt.show()"
   ]
  },
  {
   "cell_type": "markdown",
   "metadata": {},
   "source": [
    "### The Elements of the Graph\n",
    "\n",
    "There are two central elements, the __Figure__ object and the __Axes__ object.\n",
    "\n",
    "\n",
    "The Figure object is container and contains the entire visualization.  \n",
    "One Figure can, for instance, include multiple graphs. \n",
    "You can initialize a figure using:\n",
    "```\n",
    "fig = plt.figure()\n",
    "```\n",
    "The Axes object contains the information that is used to plot the graph within a Figure.   \n",
    "An Axes object holds:  \n",
    "* the values, \n",
    "* ticks on the x-axis and y-axis, \n",
    "* and visual symbols such as markers, lines, and gridlines.  \n",
    "\n",
    "A Figure object can contain multiple Axes objects, that is multiple line graphs in one Figure. \n",
    "\n",
    "You can create an Axes object using:\n",
    "```\n",
    "axes_obj = fig.add_subplot(nrows, ncols, plot_number)\n",
    "```\n",
    "If you wanted to plot two graphs next to each other. You would use:\n",
    "```\n",
    "ax1 = fig.add_subplot(2,1,1)\n",
    "ax2 = fig.add_subplot(2,1,2)\n",
    "```"
   ]
  },
  {
   "cell_type": "markdown",
   "metadata": {},
   "source": [
    "### Assignment 7: Making Axes and Figures\n",
    "\n",
    "Create an empty Figure that contains four Axes objects positioned in 2 rows and 2 columns.  \n",
    "* First make the Figure object\n",
    "* Then add four Axes objects\n",
    "* Specify where to position the Axes objects"
   ]
  },
  {
   "cell_type": "code",
   "execution_count": 13,
   "metadata": {
    "collapsed": false
   },
   "outputs": [
    {
     "data": {
      "image/png": "[encoded data removed]",
      "text/plain": [
       "<matplotlib.figure.Figure at 0x10beb2668>"
      ]
     },
     "metadata": {},
     "output_type": "display_data"
    }
   ],
   "source": [
    "fig = plt.figure()\n",
    "ax1 = fig.add_subplot(2,2,1)\n",
    "ax2 = fig.add_subplot(2,2,2)\n",
    "ax3 = fig.add_subplot(2,2,3)\n",
    "ax4 = fig.add_subplot(2,2,4)\n",
    "plt.show()"
   ]
  },
  {
   "cell_type": "markdown",
   "metadata": {},
   "source": [
    "---"
   ]
  },
  {
   "cell_type": "markdown",
   "metadata": {},
   "source": [
    "These graphs could use a little padding between them.  \n",
    "To increase the padding between them you can add to the previous block.  \n",
    "Add this and play around with the values.\n",
    "```\n",
    "plt.tight_layout(pad=0.4, w_pad=0.5, h_pad=1.0)\n",
    "\n",
    "```\n"
   ]
  },
  {
   "cell_type": "markdown",
   "metadata": {},
   "source": [
    "---"
   ]
  },
  {
   "cell_type": "markdown",
   "metadata": {},
   "source": [
    "### Assignment 8: Making Graphs with Real Data\n",
    "\n",
    "We are now going to fill the Axes objects with actual data. \n",
    "* Make a figure that contains two subplots (Axes Objects) underneath each other.\n",
    "* Show a line graph with the mean number of words in 1966 and another one for 1991. \n",
    "\n",
    "__Tip__ You need to call the plot function on the Ax object: \n",
    "```\n",
    "ax.plot(x_values, y_values)\n",
    "```"
   ]
  },
  {
   "cell_type": "code",
   "execution_count": 14,
   "metadata": {
    "collapsed": false
   },
   "outputs": [
    {
     "data": {
      "image/png": "[encoded data removed]",
      "text/plain": [
       "<matplotlib.figure.Figure at 0x10e616be0>"
      ]
     },
     "metadata": {},
     "output_type": "display_data"
    }
   ],
   "source": [
    "fig = plt.figure()\n",
    "ax1 = fig.add_subplot(2,1,1)\n",
    "ax2 = fig.add_subplot(2,1,2)\n",
    "ax1.plot(df['1966'].index, df['1966']['mean_number_of_words'])\n",
    "ax2.plot(df['1991'].index, df['1991']['mean_number_of_words'])\n",
    "\n",
    "plt.show()"
   ]
  },
  {
   "cell_type": "markdown",
   "metadata": {},
   "source": [
    "---"
   ]
  },
  {
   "cell_type": "markdown",
   "metadata": {},
   "source": [
    "As you can see the second graph does not fit within the image.     \n",
    "One way to solve this is to increase the size of the entire Figure object.  \n",
    "You can do this with:\n",
    "```\n",
    "fig = plt.figure(figsize=(width, height))\n",
    "```\n",
    "Adjust the previous block and set a width and height that works for you. "
   ]
  },
  {
   "cell_type": "code",
   "execution_count": 15,
   "metadata": {
    "collapsed": false
   },
   "outputs": [
    {
     "data": {
      "image/png": "[encoded data removed]",
      "text/plain": [
       "<matplotlib.figure.Figure at 0x10bec35f8>"
      ]
     },
     "metadata": {},
     "output_type": "display_data"
    }
   ],
   "source": [
    "fig = plt.figure(figsize=(12,5))\n",
    "ax1 = fig.add_subplot(2,1,1)\n",
    "ax2 = fig.add_subplot(2,1,2)\n",
    "\n",
    "ax1.plot(df['1966'].index, df['1966']['mean_number_of_words'])\n",
    "ax2.plot(df['1991'].index, df['1991']['mean_number_of_words'])\n",
    "\n",
    "plt.show()"
   ]
  },
  {
   "cell_type": "markdown",
   "metadata": {},
   "source": [
    "### Assignment 9: Multiple line graphs in one figure\n",
    "\n",
    "Of course you also plot multiple line graphs into one figure.\n",
    "* Plot a graph that shows the mean number of words for 1939, 1966, and 1991 into one figure\n",
    "* You need to repeat the ```plt.plot``` function three times\n",
    "* Think about which variable you want to use for the x-axis. The date index or the 'day' column\n"
   ]
  },
  {
   "cell_type": "code",
   "execution_count": 17,
   "metadata": {
    "collapsed": false
   },
   "outputs": [
    {
     "data": {
      "image/png": "[encoded data removed]",
      "text/plain": [
       "<matplotlib.figure.Figure at 0x10e67e6d8>"
      ]
     },
     "metadata": {},
     "output_type": "display_data"
    }
   ],
   "source": [
    "plt.figure(figsize=(6,3))\n",
    "plt.plot(df['1939']['day'], df['1939']['mean_number_of_words'])\n",
    "plt.plot(df['1966']['day'], df['1966']['mean_number_of_words'])\n",
    "plt.plot(df['1991']['day'], df['1991']['mean_number_of_words'])\n",
    "plt.show()"
   ]
  },
  {
   "cell_type": "markdown",
   "metadata": {},
   "source": [
    "---"
   ]
  },
  {
   "cell_type": "markdown",
   "metadata": {},
   "source": [
    "Python automatically assigns colors to the different line graphs.  \n",
    "If you don't like these colors you can add the parameter.\n",
    "```\n",
    "c = 'name of colour'\n",
    "``` \n",
    "\n",
    "You can also add labels to the lines with the parameter \n",
    "```\n",
    "label = 'name of label'\n",
    "```\n",
    "If you want to add a legend you add the line. Feel free to change the value. \n",
    "```\n",
    "plt.legend(loc='upperleft') \n",
    "```"
   ]
  },
  {
   "cell_type": "markdown",
   "metadata": {},
   "source": [
    "### Assignment 10: Add colors, labels, a title, and a legend to the chart from Assignment 9\n",
    "* copy the code from assignment 9\n",
    "* add a title\n",
    "* add color for each line graph\n",
    "* add a label that indicates the year\n",
    "* add a legend \n"
   ]
  },
  {
   "cell_type": "code",
   "execution_count": 18,
   "metadata": {
    "collapsed": false
   },
   "outputs": [
    {
     "data": {
      "image/png": "[encoded data removed]",
      "text/plain": [
       "<matplotlib.figure.Figure at 0x10ab38dd8>"
      ]
     },
     "metadata": {},
     "output_type": "display_data"
    }
   ],
   "source": [
    "fig = plt.figure(figsize=(6,3))\n",
    "plt.title(\"Mean Number of Words in Articles in 1939, 1966, 1991\")\n",
    "\n",
    "plt.plot(df['1939']['day'], df['1939']['mean_number_of_words'], c='green', label='1939')\n",
    "plt.plot(df['1966']['day'], df['1966']['mean_number_of_words'], c='red', label='1966')\n",
    "plt.plot(df['1991']['day'], df['1991']['mean_number_of_words'], c='blue', label='1991')\n",
    "plt.legend(loc='upper left')\n",
    "plt.show()"
   ]
  },
  {
   "cell_type": "markdown",
   "metadata": {},
   "source": [
    "---"
   ]
  },
  {
   "cell_type": "markdown",
   "metadata": {},
   "source": [
    "## 4.2. Bar Chart\n",
    "\n",
    "In addition to line graphs, an often used visualization is the bar graph.  \n",
    "To bee able to create a bar chart, we need to tell Python a couple of things:\n",
    "* the position of the individual bars\n",
    "* the width of the bars\n",
    "* position of the labels\n",
    "\n",
    "We will use the ```ax.bar(bar_positions, bar_heights, width)``` method, this allows for a lot of customization of the visuals.\n",
    "\n",
    "The __bar_positions__ parameter determines the where we place the left side of the bar on the x-axis.  \n",
    "The __bar_heights__ parameter is used for the height of the bar.  \n",
    "The __width__ parameter determines the widht of the bar. \n",
    "\n",
    "These parameters need multiple values in the form of a list [10, 20, 30]"
   ]
  },
  {
   "cell_type": "markdown",
   "metadata": {},
   "source": [
    "### Bar Position\n",
    "\n",
    "To space the bars in evenly distributed spaces, we use the following function:\n",
    "```\n",
    "np.arange()\n",
    "```\n",
    "This numpy function returns evenly spaces values in the form of a list. \n",
    "For instance\n",
    "```np.arange(5)``` returns ```[0,1,2,3,4]```\n",
    "\n"
   ]
  },
  {
   "cell_type": "code",
   "execution_count": 19,
   "metadata": {
    "collapsed": true
   },
   "outputs": [],
   "source": [
    "bar_positions = np.arange(3)"
   ]
  },
  {
   "cell_type": "markdown",
   "metadata": {},
   "source": [
    "### Bar Height\n",
    "For the height of the bears we will calculate the number of articles per year. "
   ]
  },
  {
   "cell_type": "code",
   "execution_count": 20,
   "metadata": {
    "collapsed": true
   },
   "outputs": [],
   "source": [
    "bar_heights = df['year'].value_counts().sort_index()"
   ]
  },
  {
   "cell_type": "markdown",
   "metadata": {},
   "source": [
    "### Assignment 11: Making a bar graph\n",
    "* first initialize a Figure and Axes object using ```fig,ax = plt.subplots()```\n",
    "* Then use the bar function on the Axes object with a width of .5, and the variables bar_positions and bar_heights"
   ]
  },
  {
   "cell_type": "code",
   "execution_count": 21,
   "metadata": {
    "collapsed": false
   },
   "outputs": [
    {
     "data": {
      "image/png": "[encoded data removed]",
      "text/plain": [
       "<matplotlib.figure.Figure at 0x10bcc3908>"
      ]
     },
     "metadata": {},
     "output_type": "display_data"
    }
   ],
   "source": [
    "fig, ax = plt.subplots()\n",
    "ax.bar(bar_positions, bar_heights, width = .5)\n",
    "plt.show()"
   ]
  },
  {
   "cell_type": "markdown",
   "metadata": {},
   "source": [
    "This graph contains 5 tick marks.  \n",
    "We actually want the tickmarks on the x-axis to correspond to our years. \n",
    "You can set the number of tick marks by passing a list to ```ax.set_xticks(range(0,3))```  \n",
    "In this case the number of tickmarks correspond to the number of number of bars.  \n",
    "So we could also pass the variable bar_positions.\n",
    "\n",
    "### Assignment 12: Add visual aids to bar graph. \n",
    "* copy the code from the previous bar chart\n",
    "* give the bar chart a title\n",
    "* give the x and y-axis a label\n",
    "* set the number of tickmarks\n",
    "* give the bar charts individual labels using ```ax.set.xticklabels()```"
   ]
  },
  {
   "cell_type": "code",
   "execution_count": 22,
   "metadata": {
    "collapsed": false
   },
   "outputs": [
    {
     "data": {
      "text/plain": [
       "[<matplotlib.text.Text at 0x10ebeca90>,\n",
       " <matplotlib.text.Text at 0x10ed9bb38>,\n",
       " <matplotlib.text.Text at 0x10ed26048>]"
      ]
     },
     "execution_count": 22,
     "metadata": {},
     "output_type": "execute_result"
    },
    {
     "data": {
      "image/png": "[encoded data removed]",
      "text/plain": [
       "<matplotlib.figure.Figure at 0x10ec63b38>"
      ]
     },
     "metadata": {},
     "output_type": "display_data"
    }
   ],
   "source": [
    "fig, ax = plt.subplots()\n",
    "ax.bar(bar_positions, bar_heights, width = .5)\n",
    "\n",
    "# add some text for labels, title and axes ticks\n",
    "ax.set_title('Articles per Year')\n",
    "ax.set_ylabel('Number of Articles')\n",
    "ax.set_xticks(bar_positions)\n",
    "ax.set_xlabel('Year')\n",
    "ax.set_xticklabels(['1939', '1966', '1991'])"
   ]
  },
  {
   "cell_type": "markdown",
   "metadata": {},
   "source": [
    "---"
   ]
  },
  {
   "cell_type": "markdown",
   "metadata": {},
   "source": [
    "This might seem like a lot of work for a simple bar chart.  \n",
    "However, you can reuse parts of existing code and you are also able to fully customize your bar chart.  \n",
    "With libraries such as Pandas and Seaborn you can generate template bar charts in a less verbose manner.  "
   ]
  },
  {
   "cell_type": "markdown",
   "metadata": {},
   "source": [
    "## 4.3. Histogram \n",
    "We use histograms to visualize the distribution of quantitative data.  \n",
    "This can help us analayze how the length of articles is distributed in a dataset.   \n",
    "With bar charts, the number of bars corresponds to the categorical data (for example, men vs women).\n",
    "\n",
    "In the case of a histogram we need to define in how many bars (_bins_) we want to divide our data.  \n",
    "If we do not define this Matplotlib determines this. \n",
    "\n",
    "You can create a histogram with the function\n",
    "```\n",
    "plt.hist(x, bins, range)\n",
    "```\n",
    "* x = the input value  \n",
    "* bins = the number of bins  \n",
    "* range = the upper and lower range of the bins"
   ]
  },
  {
   "cell_type": "markdown",
   "metadata": {},
   "source": [
    "### Assignment 13: Make a histogram\n",
    "Generate a histogram for the column 'article_length'. Do not fill out the bins and range parameters yet."
   ]
  },
  {
   "cell_type": "code",
   "execution_count": 23,
   "metadata": {
    "collapsed": false
   },
   "outputs": [
    {
     "data": {
      "text/plain": [
       "(array([  1.39560000e+04,   9.40000000e+01,   4.40000000e+01,\n",
       "          2.90000000e+01,   1.40000000e+01,   7.00000000e+00,\n",
       "          5.00000000e+00,   2.00000000e+00,   2.00000000e+00,\n",
       "          1.00000000e+00]),\n",
       " array([  1.00000000e+00,   1.83835000e+04,   3.67660000e+04,\n",
       "          5.51485000e+04,   7.35310000e+04,   9.19135000e+04,\n",
       "          1.10296000e+05,   1.28678500e+05,   1.47061000e+05,\n",
       "          1.65443500e+05,   1.83826000e+05]),\n",
       " <a list of 10 Patch objects>)"
      ]
     },
     "execution_count": 23,
     "metadata": {},
     "output_type": "execute_result"
    },
    {
     "data": {
      "image/png": "[encoded data removed]",
      "text/plain": [
       "<matplotlib.figure.Figure at 0x10beb0438>"
      ]
     },
     "metadata": {},
     "output_type": "display_data"
    }
   ],
   "source": [
    "plt.hist(df['article_length'])"
   ]
  },
  {
   "cell_type": "markdown",
   "metadata": {},
   "source": [
    "---"
   ]
  },
  {
   "cell_type": "markdown",
   "metadata": {},
   "source": [
    "As you can see most articles contain less than 25,000 characters.  \n",
    "This set of articles are all grouped into two bins.  \n",
    "The articles with very high values are probably outliers.\n",
    "\n",
    "Let's increase the number of bins and also set the range.   \n",
    "This makes it easier for us to zoom in on the distribution.  \n",
    "Play around with these values and see what happens."
   ]
  },
  {
   "cell_type": "code",
   "execution_count": 24,
   "metadata": {
    "collapsed": false
   },
   "outputs": [
    {
     "data": {
      "text/plain": [
       "(array([  5.11500000e+03,   3.31500000e+03,   1.99900000e+03,\n",
       "          1.03300000e+03,   6.91000000e+02,   5.74000000e+02,\n",
       "          4.28000000e+02,   2.83000000e+02,   1.44000000e+02,\n",
       "          1.03000000e+02,   7.70000000e+01,   6.80000000e+01,\n",
       "          4.20000000e+01,   2.90000000e+01,   2.00000000e+01,\n",
       "          1.70000000e+01,   7.00000000e+00,   9.00000000e+00,\n",
       "          5.00000000e+00,   1.00000000e+01]),\n",
       " array([     0.,   1000.,   2000.,   3000.,   4000.,   5000.,   6000.,\n",
       "          7000.,   8000.,   9000.,  10000.,  11000.,  12000.,  13000.,\n",
       "         14000.,  15000.,  16000.,  17000.,  18000.,  19000.,  20000.]),\n",
       " <a list of 20 Patch objects>)"
      ]
     },
     "execution_count": 24,
     "metadata": {},
     "output_type": "execute_result"
    },
    {
     "data": {
      "image/png": "[encoded data removed]",
      "text/plain": [
       "<matplotlib.figure.Figure at 0x10ef637b8>"
      ]
     },
     "metadata": {},
     "output_type": "display_data"
    }
   ],
   "source": [
    "plt.hist(df['article_length'], bins=20, range=(0,20000))"
   ]
  },
  {
   "cell_type": "markdown",
   "metadata": {},
   "source": [
    "### Assignment 14: Making multiple histograms\n",
    "For this assignment we will plot three histograms of the column article length for the years 1939, 1966, and 1991.\n",
    "\n",
    "* initialize the Figure object and give the graph a size\n",
    "* initialize three Axes Objects and places them next to each other or underneath each other\n",
    "* Call the hist function on each ax object and set the number of bins and the range. \n",
    "* Also set an x and y label for each of the ax objects\n",
    "* You can give the entire Figure a title with ```fig.suptitle(\"Three Histograms\")```"
   ]
  },
  {
   "cell_type": "code",
   "execution_count": 30,
   "metadata": {
    "collapsed": false
   },
   "outputs": [
    {
     "data": {
      "image/png": "[encoded data removed]",
      "text/plain": [
       "<matplotlib.figure.Figure at 0x10fa34dd8>"
      ]
     },
     "metadata": {},
     "output_type": "display_data"
    }
   ],
   "source": [
    "fig = plt.figure(figsize=(5,10))\n",
    "fig.suptitle(\"Three Histograms\")\n",
    "\n",
    "ax1 = fig.add_subplot(3,1,1)\n",
    "ax2 = fig.add_subplot(3,1,2)\n",
    "ax3 = fig.add_subplot(3,1,3)\n",
    "\n",
    "ax1.hist(df['1939']['article_length'], 20, range=(0,50000))\n",
    "ax1.set_title(\"Distribution of Article Length in 1939\")\n",
    "#ax1.set_ylim(0,50)\n",
    "ax1.set_ylabel(\"Frequency\")\n",
    "\n",
    "ax2.hist(df['1966']['article_length'], 20, range=(0,50000))\n",
    "ax2.set_title(\"Distribution of Article Length in 1966\")\n",
    "#ax2.set_ylim(0,50)\n",
    "ax2.set_ylabel(\"Frequency\")\n",
    "\n",
    "ax3.hist(df['1991']['article_length'], 20, range=(0,50000))\n",
    "ax3.set_title(\"Distribution of Article Lenght in 1991\")\n",
    "#ax3.set_xlim(0,50)\n",
    "ax3.set_ylabel(\"Frequency\")\n",
    "\n",
    "plt.show()"
   ]
  },
  {
   "cell_type": "markdown",
   "metadata": {},
   "source": [
    "## Further Exploration\n",
    "\n",
    "Other forms of visualization include __boxplots__ and __scatterplots__.  \n",
    "\n",
    "You can study the Matplotlib documentation to learn more about this visualization.  \n",
    "It follows the same logic as the previous examples. \n",
    "For instance, a boxplot is called through ```ax.boxplot``` and a scatterplot with ```ax.scatter```.\n",
    "\n",
    "---"
   ]
  },
  {
   "cell_type": "markdown",
   "metadata": {},
   "source": [
    "## 5. Plotting with Pandas \n",
    "For the final part of this workshop, we will use Pandas to do our plotting.   \n",
    "This is often easier than using Matplotlib.  \n",
    "Plotting with Pandas relies on Matplotlib.  \n",
    "For this reason, we can always customize element produced by Pandas through matplotlib using the   \n",
    "knowledge you gained in previous assingments. \n",
    "\n",
    "Plotting with Pandas relies on Matplotlib. It's done via the function\n",
    "```\n",
    "dataframe.plot()\n",
    "```\n",
    "We can pass the x and y-value, the kind of plot, the title and the figsize in one line. \n",
    "For instance: \n",
    "```\n",
    "df['1991'].plot(x='day', y='mean_size', kind='line', title='Mean size per day', figsize=(5,10))\n",
    "```\n",
    "More on this see: http://pandas.pydata.org/pandas-docs/version/0.19.0/generated/pandas.DataFrame.plot.html"
   ]
  },
  {
   "cell_type": "markdown",
   "metadata": {},
   "source": [
    "---"
   ]
  },
  {
   "cell_type": "markdown",
   "metadata": {},
   "source": [
    "### Assingment 15: Plotting with Pandas\n",
    "\n",
    "Try to plot a green line graph for the year 1966 with the 'day' column as the x-axis, mean_article_length as the y-axis and give the line the label '1966'.\n"
   ]
  },
  {
   "cell_type": "code",
   "execution_count": 26,
   "metadata": {
    "collapsed": false
   },
   "outputs": [
    {
     "data": {
      "text/plain": [
       "<matplotlib.axes._subplots.AxesSubplot at 0x10ef77588>"
      ]
     },
     "execution_count": 26,
     "metadata": {},
     "output_type": "execute_result"
    },
    {
     "data": {
      "image/png": "[encoded data removed]",
      "text/plain": [
       "<matplotlib.figure.Figure at 0x10f0d5470>"
      ]
     },
     "metadata": {},
     "output_type": "display_data"
    }
   ],
   "source": [
    "df['1991'].plot(x='day', y='mean_article_length', kind='line', title='Day vs. Mean_size', label=\"1991\", color='green')"
   ]
  },
  {
   "cell_type": "markdown",
   "metadata": {},
   "source": [
    "If you assign the pandas plot to a variable (for instance 'ax'), you can override the graph using the matplotlib functions you learned.  \n",
    "* Assign the pandas plot to a variable\n",
    "* Change the limit of the y-axis, and the title of the graph.  \n",
    "\n",
    "__Tip__:\n",
    "* You can change the limit of the y-axis by calling the function set_ylim() on your Axes object\n"
   ]
  },
  {
   "cell_type": "code",
   "execution_count": 27,
   "metadata": {
    "collapsed": false
   },
   "outputs": [
    {
     "data": {
      "text/plain": [
       "<matplotlib.text.Text at 0x10bc245f8>"
      ]
     },
     "execution_count": 27,
     "metadata": {},
     "output_type": "execute_result"
    },
    {
     "data": {
      "image/png": "[encoded data removed]",
      "text/plain": [
       "<matplotlib.figure.Figure at 0x10f01f2b0>"
      ]
     },
     "metadata": {},
     "output_type": "display_data"
    }
   ],
   "source": [
    "ax = df['1991'].plot(x='day', y='mean_article_length', kind='line', title='Day vs. Mean_size', label=\"1991\", color='green')\n",
    "ax.set_ylim(2500,6000)\n",
    "ax.set_title(\"Title!\")"
   ]
  },
  {
   "cell_type": "markdown",
   "metadata": {},
   "source": [
    "---"
   ]
  },
  {
   "cell_type": "markdown",
   "metadata": {},
   "source": [
    "### Assignment 16: Generate the same three histograms as in Assignment 14 using Pandas\n"
   ]
  },
  {
   "cell_type": "code",
   "execution_count": 28,
   "metadata": {
    "collapsed": false
   },
   "outputs": [
    {
     "data": {
      "text/plain": [
       "<matplotlib.axes._subplots.AxesSubplot at 0x10f4fc588>"
      ]
     },
     "execution_count": 28,
     "metadata": {},
     "output_type": "execute_result"
    },
    {
     "data": {
      "image/png": "[encoded data removed]",
      "text/plain": [
       "<matplotlib.figure.Figure at 0x10be352e8>"
      ]
     },
     "metadata": {},
     "output_type": "display_data"
    },
    {
     "data": {
      "image/png": "[encoded data removed]",
      "text/plain": [
       "<matplotlib.figure.Figure at 0x10eb4e668>"
      ]
     },
     "metadata": {},
     "output_type": "display_data"
    },
    {
     "data": {
      "image/png": "[encoded data removed]",
      "text/plain": [
       "<matplotlib.figure.Figure at 0x10e93bf98>"
      ]
     },
     "metadata": {},
     "output_type": "display_data"
    }
   ],
   "source": [
    "df['1991'].plot(x='day', y='article_length', kind='hist', title='Day vs. Mean_size', label=\"1991\", color='green', bins=100, range=(0,20000))\n",
    "df['1966'].plot(x='day', y='article_length', kind='hist', title='Day vs. Mean_size', label=\"1966\", color='blue', bins=100, range=(0,20000))\n",
    "df['1939'].plot(x='day', y='article_length', kind='hist', title='Day vs. Mean_size', label=\"1939\", color='red', bins=100, range=(0,20000))\n",
    "#standard determination of number of bins, you can override this by adding bins=x"
   ]
  },
  {
   "cell_type": "markdown",
   "metadata": {},
   "source": [
    "---"
   ]
  },
  {
   "cell_type": "markdown",
   "metadata": {},
   "source": [
    "### Further reading/exploration\n",
    "Edward Tufte's book 'The visual display of quantitative information'.  \n",
    "Also see Bokeh and Seaborn for many more plotting options. \n",
    "\n",
    "* https://pandas.pydata.org/pandas-docs/stable/generated/pandas.DataFrame.plot.html\n",
    "* https://pandas.pydata.org/pandas-docs/stable/visualization.html\n",
    "* https://matplotlib.org\n",
    "* https://seaborn.pydata.org\n",
    "* http://bokeh.pydata.org/en/latest"
   ]
  }
 ],
 "metadata": {
  "anaconda-cloud": {},
  "kernelspec": {
   "display_name": "Python 3",
   "language": "python",
   "name": "python3"
  },
  "language_info": {
   "codemirror_mode": {
    "name": "ipython",
    "version": 3
   },
   "file_extension": ".py",
   "mimetype": "text/x-python",
   "name": "python",
   "nbconvert_exporter": "python",
   "pygments_lexer": "ipython3",
   "version": "3.6.0"
  }
 },
 "nbformat": 4,
 "nbformat_minor": 1
}
