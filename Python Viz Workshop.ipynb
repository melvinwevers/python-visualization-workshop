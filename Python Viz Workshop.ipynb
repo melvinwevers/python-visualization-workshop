{
 "cells": [
  {
   "cell_type": "markdown",
   "metadata": {},
   "source": [
    "# TEXT MINING THE GREAT UNREAD\n",
    "\n",
    "### Data Visualization Using Python - Melvin Wevers\n",
    "\n",
    "__Digital Humanities Group @ KNAW Humanities Cluster (Amsterdam)__\n",
    "\n",
    "```\n",
    "melvinwevers (at) gmail.com\n",
    "```\n",
    "---\n",
    "In this workshop, we will use several visualization techniques to explore datasets, and uncover patterns in textual data.  \n",
    "We will start by using Matplotlib in Python and then work on graphing in Pandas, which relies on Matplotlib.\n"
   ]
  },
  {
   "cell_type": "markdown",
   "metadata": {},
   "source": [
    "First, we will load some required libraries. "
   ]
  },
  {
   "cell_type": "code",
   "execution_count": 1,
   "metadata": {
    "collapsed": true
   },
   "outputs": [],
   "source": [
    "#libraries\n",
    "import glob\n",
    "import numpy as np #we load numpy as np, so we can call the library using np instead of np\n",
    "import pandas as pd"
   ]
  },
  {
   "cell_type": "markdown",
   "metadata": {},
   "source": [
    "---"
   ]
  },
  {
   "cell_type": "markdown",
   "metadata": {},
   "source": [
    "## 1. EXPLORING THE DATASET\n",
    "\n",
    "For this workshop, we will be working with the British newspaper Financial Times.   \n",
    "Because of copyright restrictions, the dataset only includes the month September for the years 1939, 1966, and 1991.\n",
    "\n",
    "The following code block downloads the json files in the 'data' folder and places them in a Pandas dataframe.  \n",
    "A Pandas Dataframe is a tabular structure similar to an Excel spreadsheet.   \n",
    "You can do operations on the numbers and text in the dataframe."
   ]
  },
  {
   "cell_type": "code",
   "execution_count": null,
   "metadata": {
    "collapsed": true
   },
   "outputs": [],
   "source": [
    "path ='data' #here we define the path\n",
    "allFiles = glob.glob(path + \"/*.json\")\n",
    "frame = pd.DataFrame() #here we initialize a Pandas DataFrame\n",
    "list_ = []\n",
    "for file_ in allFiles:\n",
    "    frame = pd.read_json(file_) #since the files are in json format we use read_json. Other options include read_csv\n",
    "    list_.append(frame) \n",
    "df = pd.concat(list_)"
   ]
  },
  {
   "cell_type": "markdown",
   "metadata": {},
   "source": [
    "We have now loaded the documents into a dataframe with the name 'df'.\n",
    "\n",
    "---"
   ]
  },
  {
   "cell_type": "markdown",
   "metadata": {},
   "source": [
    "### Assignment 1: Exploring the dataset\n",
    "For the first assignment, we will explore the dataset.  \n",
    "Use the following functions to explore the dataframe with the name 'df':\n",
    "```\n",
    "df.head() #this shows the first lines (put a number between the parenthesis to determine how many lines)\n",
    "df.tail()\n",
    "df.shape[0] #this shows the (horizontal) size of the dataframe. Replace the 0 with 1 for vertical size.\n",
    "```\n",
    "Make a markdown cell (with + or 'b') and note the names of the columns that contain the __text__ in the articles and the __date__ of the articles."
   ]
  },
  {
   "cell_type": "markdown",
   "metadata": {},
   "source": [
    "---"
   ]
  },
  {
   "cell_type": "markdown",
   "metadata": {},
   "source": [
    "### Assignment 2: Investigate cells that contain specific word(s)\n",
    "\n",
    "If you want to view cells that contain specific text (in this case Aarhus) you can use:\n",
    "```\n",
    "df[df[\"text_content\"].str.contains(\"Aarhus\")]\n",
    "```\n",
    "If you want to view the full contents of the cell use:\n",
    "```\n",
    "pd.set_option('display.max_colwidth', -1)\n",
    "```\n",
    "For truncation set the value -1 to the width of the column, for instance 50\n",
    "\n",
    "Replace the string with other string to get an idea of the type of articles in the dataset. "
   ]
  },
  {
   "cell_type": "markdown",
   "metadata": {},
   "source": [
    "---\n"
   ]
  },
  {
   "cell_type": "markdown",
   "metadata": {},
   "source": [
    "## 2. WORKING WITH DATES\n",
    "\n",
    "If we want to study changes over time, we need a variable that indicates time.  \n",
    "In this case we will use the 'date' column.  \n",
    "There are two main approaches if you want to work with dates. "
   ]
  },
  {
   "cell_type": "markdown",
   "metadata": {},
   "source": [
    "### 2.1. Setting the date column as an index\n",
    "For this approach, we convert the column with the dates to an index based on dates.  \n",
    "By default the index is a list of number linked to each row.  \n",
    "We can then use this index as a variable. "
   ]
  },
  {
   "cell_type": "code",
   "execution_count": null,
   "metadata": {
    "collapsed": true
   },
   "outputs": [],
   "source": [
    "#the function to_datetime tells Pandas that the column includes dates\n",
    "df['paper_dc_date'] = pd.to_datetime(df['paper_dc_date']) \n",
    "\n",
    "#the function set_index tells Pandas to use the 'date' column as the index. \n",
    "#By specifying the drop parameter as 'False' we tell Pandas to keep the original column with the dates. \n",
    "#Otherwise this column is removed. Since we need it for the Second Approach, we want to keep it. \n",
    "df = df.set_index(['paper_dc_date'], drop=False)"
   ]
  },
  {
   "cell_type": "markdown",
   "metadata": {},
   "source": [
    "__Inspect the dataframe to see what has changed__"
   ]
  },
  {
   "cell_type": "markdown",
   "metadata": {},
   "source": [
    "--- "
   ]
  },
  {
   "cell_type": "markdown",
   "metadata": {},
   "source": [
    "### 2.2. Turning elements of the dates in separate variables\n",
    "For this approach we will take elements from the date column and turn those into separate variables.  \n",
    "For instance, turn the number of the month into a separate column, and the day of the week.  \n",
    "The following line of code creates a column 'day' with the numbers of the day in the month.\n",
    "```\n",
    "df['day'] = df['paper_dc_date'].dt.day \n",
    "```\n",
    "\n",
    "--- "
   ]
  },
  {
   "cell_type": "markdown",
   "metadata": {},
   "source": [
    "### Assignment 3: Making columns with date information\n",
    "Make new columns that contains the number of the week, month, and year.  \n",
    "Which of these columns is redundant for our dataset? "
   ]
  },
  {
   "cell_type": "markdown",
   "metadata": {},
   "source": [
    "---"
   ]
  },
  {
   "cell_type": "markdown",
   "metadata": {},
   "source": [
    "We can now use both the index and the columns with date information to plot graphs on a temporal axis.  \n",
    "But before we start doing this we need to generate some additional statistics about the dataset that we can plot over time."
   ]
  },
  {
   "cell_type": "markdown",
   "metadata": {},
   "source": [
    "---"
   ]
  },
  {
   "cell_type": "markdown",
   "metadata": {
    "collapsed": true
   },
   "source": [
    "## 3. GENERATING TEXT STATISTICS\n",
    "\n",
    "For this workshop, we will generate some basic descriptive statistics about the articles in the Financial Times.  \n",
    "We will use this information to generate the graphs in the remainder of this workshop. "
   ]
  },
  {
   "cell_type": "code",
   "execution_count": null,
   "metadata": {
    "collapsed": true
   },
   "outputs": [],
   "source": [
    "#calculate length of articles\n",
    "df['article_length'] = df['text_content'].str.len()\n",
    "\n",
    "#calculate mean length per day\n",
    "df['mean_article_length'] = df['article_length'].groupby(pd.TimeGrouper('D')).aggregate(np.mean).dropna()"
   ]
  },
  {
   "cell_type": "code",
   "execution_count": 80,
   "metadata": {
    "collapsed": true
   },
   "outputs": [],
   "source": [
    "#calculate number of words\n",
    "def word_counter(row):\n",
    "    tokens = row[\"text_content\"].split(\" \")\n",
    "    return len(tokens)\n",
    "\n",
    "df[\"number_of_words\"] = df.apply(word_counter, axis=1)\n",
    "\n",
    "#calculate mean number of words per day\n",
    "df['mean_number_of_words'] = df['number_of_words'].groupby(pd.TimeGrouper('D')).aggregate(np.mean).dropna()"
   ]
  },
  {
   "cell_type": "markdown",
   "metadata": {},
   "source": [
    "__Inspect the new columns in the dataframe__"
   ]
  },
  {
   "cell_type": "markdown",
   "metadata": {},
   "source": [
    "---"
   ]
  },
  {
   "cell_type": "markdown",
   "metadata": {},
   "source": [
    "## 4. VISUALIZING DESCRIPTIVE TEXT STATISTICS"
   ]
  },
  {
   "cell_type": "markdown",
   "metadata": {},
   "source": [
    "For plotting we are going to be using Matplotlib and the Pandas extension build on this library.  \n",
    "\n",
    "We'll start by import the matplotlib library into python."
   ]
  },
  {
   "cell_type": "code",
   "execution_count": 83,
   "metadata": {
    "collapsed": true
   },
   "outputs": [],
   "source": [
    "#this imports the library as plt\n",
    "import matplotlib.pyplot as plt \n",
    "#this tells Jupyter Notebook to show the graph inside the notebook\n",
    "%matplotlib inline "
   ]
  },
  {
   "cell_type": "code",
   "execution_count": 9,
   "metadata": {},
   "outputs": [
    {
     "data": {
      "image/png": "[encoded data removed]",
      "text/plain": [
       "<matplotlib.figure.Figure at 0x10e933a90>"
      ]
     },
     "metadata": {},
     "output_type": "display_data"
    }
   ],
   "source": [
    "plt.plot()\n",
    "#this shows the graph. In Jupyter this happens automatically after plt.plot, but it's good practice to include it\n",
    "plt.show() "
   ]
  },
  {
   "cell_type": "markdown",
   "metadata": {},
   "source": [
    "This yields an empty plot. <br/>\n",
    "This is because we have only told python to show a plot, but we haven't provided it with what to plot and how to plot it.\n",
    "\n",
    "---"
   ]
  },
  {
   "cell_type": "markdown",
   "metadata": {},
   "source": [
    "## 4.1. Line Graphs\n",
    "\n",
    "We can call Matplotlib using plt (since we loaded the library as plt).  \n",
    "The function to plot line graphs in matplotlib is:\n",
    "\n",
    "```\n",
    "plt.plot(x_values, y_values)\n",
    "```\n",
    "\n",
    "Matplotlib will accept any iterable object, like NumPy arrays and pandas.Series instances as input for a line graph.\n",
    "\n",
    "### Assignment 4: Generating Line Graphs\n",
    "\n",
    "We will now generate two line graphs for the year 1991 using two different statistics. \n",
    "\n",
    "* Generate a line graph for the year 1991 that shows the date on the x-axis and the length of the articles on the y-axis\n",
    "* Generate a line graph for the year 1991 that shows the date on the x-axis and the mean number of words in the articles on the y-axis\n",
    "\n",
    "__Tip__:\n",
    "\n",
    "* Remember we set the date as the index. You can access the index using ```df.index```\n",
    "* You can select a year using ```df['1966']```\n",
    "* To select the index for a particular year you need to type ```df['1966'].index```\n",
    "* To select a particular column in a year you can use ```df['1996']['newspaper_title']```\n",
    "* Remember to always close with ```plt.show()```\n"
   ]
  },
  {
   "cell_type": "code",
   "execution_count": null,
   "metadata": {
    "collapsed": true
   },
   "outputs": [],
   "source": []
  },
  {
   "cell_type": "markdown",
   "metadata": {
    "scrolled": true
   },
   "source": [
    "--- "
   ]
  },
  {
   "cell_type": "markdown",
   "metadata": {},
   "source": [
    "The x-axis for the graph we generated is not very readable.   \n",
    "One way to fix this is to turn the labels on the x-axis.  \n",
    "We can do this with the xticks function. \n",
    "\n",
    "```\n",
    "matplotlib.pyplot.xticks()\n",
    "```\n",
    "Graphing includes a lot of Googling and reading documentation.  \n",
    "Try and see if you can figure out how to rotate the xticks here: http://matplotlib.org/api/pyplot_api.html#matplotlib.pyplot.xticks"
   ]
  },
  {
   "cell_type": "markdown",
   "metadata": {},
   "source": [
    "### Assignment 5 \n",
    "* Generate a line graph for 1991 that shows the __date__ on the x-axis and the __mean length of the articles__ on the y-axis.  \n",
    "* But also rotate the x-axis with __90 degrees__.  \n",
    "* Reflect on what the graph shows us and note this down in a Markdown cell."
   ]
  },
  {
   "cell_type": "code",
   "execution_count": null,
   "metadata": {
    "collapsed": true
   },
   "outputs": [],
   "source": []
  },
  {
   "cell_type": "markdown",
   "metadata": {},
   "source": [
    "### Make the graph a little fancier\n",
    "We still need to add labels to the x-axis and the y-axis, and we need to give the graph a title.  \n",
    "* To set the x-axis label we can pass a string to the function: ```xlabel()```  \n",
    "* For the y-axis label, pass a string value to: ```ylabel()```  \n",
    "* To give the graph a title pass a string value to: ```title()```  \n",
    "* You can also give your graph a style using ```plt.style.use()```\n",
    "\n",
    "For an overview of the styles see: https://tonysyu.github.io/raw_content/matplotlib-style-gallery/gallery.html\n",
    "\n",
    "__Tip__: To call a function for matplotlib use ```plt.xlabel()```\n",
    "\n",
    "### Assignment 6### \n",
    "\n",
    "* Generate a line graph for 1991 that plots the mean length of the articles.  \n",
    "* Rotate the labels \n",
    "* Give the graph a title \n",
    "* Label the x-axis and y-axis.\n",
    "\n",
    "__Tip__: You can copy parts of your earlier code"
   ]
  },
  {
   "cell_type": "code",
   "execution_count": null,
   "metadata": {
    "collapsed": true
   },
   "outputs": [],
   "source": []
  },
  {
   "cell_type": "markdown",
   "metadata": {},
   "source": [
    "### The Elements of the Graph\n",
    "\n",
    "There are two central elements, the __Figure__ object and the __Axes__ object.\n",
    "\n",
    "\n",
    "The Figure object is container and contains the entire visualization.  \n",
    "One Figure can, for instance, include multiple graphs. \n",
    "You can initialize a figure using:\n",
    "```\n",
    "fig = plt.figure()\n",
    "```\n",
    "The Axes object contains the information that is used to plot the graph within a Figure.   \n",
    "An Axes object holds:  \n",
    "* the values, \n",
    "* ticks on the x-axis and y-axis, \n",
    "* and visual symbols such as markers, lines, and gridlines.  \n",
    "\n",
    "A Figure object can contain multiple Axes objects, that is multiple line graphs in one Figure. \n",
    "\n",
    "You can create an Axes object using:\n",
    "```\n",
    "axes_obj = fig.add_subplot(nrows, ncols, plot_number)\n",
    "```\n",
    "If you wanted to plot two graphs next to each other. You would use:\n",
    "```\n",
    "ax1 = fig.add_subplot(2,1,1)\n",
    "ax2 = fig.add_subplot(2,1,2)\n",
    "```"
   ]
  },
  {
   "cell_type": "markdown",
   "metadata": {},
   "source": [
    "### Assignment 7: Making Axes and Figures\n",
    "\n",
    "Create an empty Figure that contains four Axes objects positioned in 2 rows and 2 columns.  \n",
    "* First make the Figure object\n",
    "* Then add four Axes objects\n",
    "* Specify where to position the Axes objects"
   ]
  },
  {
   "cell_type": "code",
   "execution_count": null,
   "metadata": {
    "collapsed": true
   },
   "outputs": [],
   "source": []
  },
  {
   "cell_type": "markdown",
   "metadata": {},
   "source": [
    "---"
   ]
  },
  {
   "cell_type": "markdown",
   "metadata": {},
   "source": [
    "These graphs could use a little padding between them.  \n",
    "To increase the padding between them you can add to the previous block.  \n",
    "Add this and play around with the values.\n",
    "```\n",
    "plt.tight_layout(pad=0.4, w_pad=0.5, h_pad=1.0)\n",
    "\n",
    "```\n"
   ]
  },
  {
   "cell_type": "markdown",
   "metadata": {},
   "source": [
    "---"
   ]
  },
  {
   "cell_type": "markdown",
   "metadata": {},
   "source": [
    "### Assignment 8: Making Graphs with Real Data\n",
    "\n",
    "We are now going to fill the Axes objects with actual data. \n",
    "* Make a figure that contains two subplots (Axes Objects) underneath each other.\n",
    "* Show a line graph with the mean number of words in 1966 and another one for 1991. \n",
    "\n",
    "__Tip__ You need to call the plot function on the Ax object: \n",
    "```\n",
    "ax.plot(x_values, y_values)\n",
    "```"
   ]
  },
  {
   "cell_type": "code",
   "execution_count": null,
   "metadata": {},
   "outputs": [],
   "source": []
  },
  {
   "cell_type": "markdown",
   "metadata": {},
   "source": [
    "---"
   ]
  },
  {
   "cell_type": "markdown",
   "metadata": {},
   "source": [
    "As you can see the second graph does not fit within the image.     \n",
    "One way to solve this is to increase the size of the entire Figure object.  \n",
    "You can do this with:\n",
    "```\n",
    "fig = plt.figure(figsize=(width, height))\n",
    "```\n",
    "Adjust the previous block and set a width and height that works for you. "
   ]
  },
  {
   "cell_type": "markdown",
   "metadata": {},
   "source": [
    "### Assignment 9: Multiple line graphs in one figure\n",
    "\n",
    "Of course you also plot multiple line graphs into one figure.\n",
    "* Plot a graph that shows the mean number of words for 1939, 1966, and 1991 into one figure\n",
    "* You need to repeat the ```plt.plot``` function three times\n",
    "* Think about which variable you want to use for the x-axis. The date index or the 'day' column\n"
   ]
  },
  {
   "cell_type": "markdown",
   "metadata": {},
   "source": [
    "---"
   ]
  },
  {
   "cell_type": "markdown",
   "metadata": {},
   "source": [
    "Python automatically assigns colors to the different line graphs.  \n",
    "If you don't like these colors you can add the parameter.\n",
    "```\n",
    "c = 'name of colour'\n",
    "``` \n",
    "\n",
    "You can also add labels to the lines with the parameter \n",
    "```\n",
    "label = 'name of label'\n",
    "```\n",
    "If you want to add a legend you add the line. Feel free to change the value. \n",
    "```\n",
    "plt.legend(loc='upperleft') \n",
    "```"
   ]
  },
  {
   "cell_type": "markdown",
   "metadata": {},
   "source": [
    "### Assignment 10: Add colors, labels, a title, and a legend to the chart from Assignment 9\n",
    "* copy the code from assignment 9\n",
    "* add a title\n",
    "* add color for each line graph\n",
    "* add a label that indicates the year\n",
    "* add a legend \n"
   ]
  },
  {
   "cell_type": "markdown",
   "metadata": {},
   "source": [
    "---"
   ]
  },
  {
   "cell_type": "markdown",
   "metadata": {},
   "source": [
    "## 4.2. Bar Chart\n",
    "\n",
    "In addition to line graphs, an often used visualization is the bar graph.  \n",
    "To bee able to create a bar chart, we need to tell Python a couple of things:\n",
    "* the position of the individual bars\n",
    "* the width of the bars\n",
    "* position of the labels\n",
    "\n",
    "We will use the ```ax.bar(bar_positions, bar_heights, width)``` method, this allows for a lot of customization of the visuals.\n",
    "\n",
    "The __bar_positions__ parameter determines the where we place the left side of the bar on the x-axis.  \n",
    "The __bar_heights__ parameter is used for the height of the bar.  \n",
    "The __width__ parameter determines the widht of the bar. \n",
    "\n",
    "These parameters need multiple values in the form of a list [10, 20, 30]"
   ]
  },
  {
   "cell_type": "markdown",
   "metadata": {},
   "source": [
    "### Bar Position\n",
    "\n",
    "To space the bars in evenly distributed spaces, we use the following function:\n",
    "```\n",
    "np.arange()\n",
    "```\n",
    "This numpy function returns evenly spaces values in the form of a list. \n",
    "For instance\n",
    "```np.arange(5)``` returns ```[0,1,2,3,4]```\n",
    "\n"
   ]
  },
  {
   "cell_type": "code",
   "execution_count": 139,
   "metadata": {
    "collapsed": true
   },
   "outputs": [],
   "source": [
    "bar_positions = np.arange(3)"
   ]
  },
  {
   "cell_type": "markdown",
   "metadata": {},
   "source": [
    "### Bar Height\n",
    "For the height of the bears we will calculate the number of articles per year. "
   ]
  },
  {
   "cell_type": "code",
   "execution_count": null,
   "metadata": {},
   "outputs": [],
   "source": [
    "bar_heights = df['year'].value_counts().sort_index()"
   ]
  },
  {
   "cell_type": "markdown",
   "metadata": {},
   "source": [
    "### Assignment 11: Making a bar graph\n",
    "* first initialize a Figure and Axes object using ```fig,ax = plt.subplots()```\n",
    "* Then use the bar function on the Axes object with a width of .5, and the variables bar_positions and bar_heights"
   ]
  },
  {
   "cell_type": "markdown",
   "metadata": {},
   "source": [
    "This graph contains 5 tick marks.  \n",
    "We actually want the tickmarks on the x-axis to correspond to our years. \n",
    "You can set the number of tick marks by passing a list to ```ax.set_xticks(range(0,3))```  \n",
    "In this case the number of tickmarks correspond to the number of number of bars.  \n",
    "So we could also pass the variable bar_positions.\n",
    "\n",
    "### Assignment 12: Add visual aids to bar graph. \n",
    "* copy the code from the previous bar chart\n",
    "* give the bar chart a title\n",
    "* give the x and y-axis a label\n",
    "* set the number of tickmarks\n",
    "* give the bar charts individual labels using ```ax.set.xticklabels()```"
   ]
  },
  {
   "cell_type": "markdown",
   "metadata": {},
   "source": [
    "---"
   ]
  },
  {
   "cell_type": "markdown",
   "metadata": {},
   "source": [
    "This might seem like a lot of work for a simple bar chart.  \n",
    "However, you can reuse parts of existing code and you are also able to fully customize your bar chart.  \n",
    "With libraries such as Pandas and Seaborn you can generate template bar charts in a less verbose manner.  "
   ]
  },
  {
   "cell_type": "markdown",
   "metadata": {},
   "source": [
    "## 4.3. Histogram \n",
    "We use histograms to visualize the distribution of quantitative data.  \n",
    "This can help us analayze how the length of articles is distributed in a dataset.   \n",
    "With bar charts, the number of bars corresponds to the categorical data (for example, men vs women).\n",
    "\n",
    "In the case of a histogram we need to define in how many bars (_bins_) we want to divide our data.  \n",
    "If we do not define this Matplotlib determines this. \n",
    "\n",
    "You can create a histogram with the function\n",
    "```\n",
    "plt.hist(x, bins, range)\n",
    "```\n",
    "* x = the input value  \n",
    "* bins = the number of bins  \n",
    "* range = the upper and lower range of the bins"
   ]
  },
  {
   "cell_type": "markdown",
   "metadata": {},
   "source": [
    "### Assignment 13: Make a histogram\n",
    "Generate a histogram for the column 'article_length'. Do not fill out the bins and range parameters yet."
   ]
  },
  {
   "cell_type": "code",
   "execution_count": null,
   "metadata": {
    "collapsed": true
   },
   "outputs": [],
   "source": []
  },
  {
   "cell_type": "markdown",
   "metadata": {},
   "source": [
    "---"
   ]
  },
  {
   "cell_type": "markdown",
   "metadata": {},
   "source": [
    "As you can see most articles contain less than 25,000 characters.  \n",
    "This set of articles are all grouped into two bins.  \n",
    "The articles with very high values are probably outliers.\n",
    "\n",
    "Let's increase the number of bins and also set the range.   \n",
    "This makes it easier for us to zoom in on the distribution.  \n",
    "Play around with these values and see what happens."
   ]
  },
  {
   "cell_type": "code",
   "execution_count": null,
   "metadata": {
    "collapsed": true
   },
   "outputs": [],
   "source": []
  },
  {
   "cell_type": "markdown",
   "metadata": {},
   "source": [
    "### Assignment 14: Making multiple histograms\n",
    "For this assignment we will plot three histograms of the column article length for the years 1939, 1966, and 1991.\n",
    "\n",
    "* initialize the Figure object and give the graph a size\n",
    "* initialize three Axes Objects and places them next to each other or underneath each other\n",
    "* Call the hist function on each ax object and set the number of bins and the range. \n",
    "* Also set an x and y label for each of the ax objects\n",
    "* You can give the entire Figure a title with ```fig.suptitle(\"Three Histograms\")```"
   ]
  },
  {
   "cell_type": "markdown",
   "metadata": {},
   "source": [
    "## Saving a Graph\n",
    "If you want to save a graph as a file. You can call the function ``savefig`` on your Figure object.  \n",
    "For example, \n",
    "\n",
    "```\n",
    "fig.savefig('test.png', bbox_inches='tight', dpi=300)\n",
    "```\n",
    "\n",
    "The first parameter defines the name and file format, the second the padding around the image, and the last the number of dots-per-inch. "
   ]
  },
  {
   "cell_type": "markdown",
   "metadata": {},
   "source": [
    "## Further Exploration\n",
    "\n",
    "Other forms of visualization include __boxplots__ and __scatterplots__.  \n",
    "\n",
    "You can study the Matplotlib documentation to learn more about this visualization.  \n",
    "It follows the same logic as the previous examples. \n",
    "For instance, a boxplot is called through ```ax.boxplot``` and a scatterplot with ```ax.scatter```.\n",
    "\n",
    "---"
   ]
  },
  {
   "cell_type": "markdown",
   "metadata": {},
   "source": [
    "## 5. Plotting with Pandas \n",
    "For the final part of this workshop, we will use Pandas to do our plotting.   \n",
    "This is often easier than using Matplotlib.  \n",
    "Plotting with Pandas relies on Matplotlib.  \n",
    "For this reason, we can always customize element produced by Pandas through matplotlib using the   \n",
    "knowledge you gained in previous assingments. \n",
    "\n",
    "Plotting with Pandas relies on Matplotlib. It's done via the function\n",
    "```\n",
    "dataframe.plot()\n",
    "```\n",
    "We can pass the x and y-value, the kind of plot, the title and the figsize in one line. \n",
    "For instance: \n",
    "```\n",
    "df['1991'].plot(x='day', y='mean_size', kind='line', title='Mean size per day', figsize=(5,10))\n",
    "```\n",
    "More on this see: http://pandas.pydata.org/pandas-docs/version/0.19.0/generated/pandas.DataFrame.plot.html"
   ]
  },
  {
   "cell_type": "markdown",
   "metadata": {},
   "source": [
    "---"
   ]
  },
  {
   "cell_type": "markdown",
   "metadata": {},
   "source": [
    "### Assingment 15: Plotting with Pandas\n",
    "\n",
    "Try to plot a green line graph for the year 1966 with the 'day' column as the x-axis, mean_article_length as the y-axis and give the line the label '1966'.\n"
   ]
  },
  {
   "cell_type": "code",
   "execution_count": null,
   "metadata": {
    "collapsed": true
   },
   "outputs": [],
   "source": []
  },
  {
   "cell_type": "markdown",
   "metadata": {},
   "source": [
    "If you assign the pandas plot to a variable (for instance 'ax'), you can override the graph using the matplotlib functions you learned.  \n",
    "* Assign the pandas plot to a variable\n",
    "* Change the limit of the y-axis, and the title of the graph.  \n",
    "\n",
    "__Tip__:\n",
    "* You can change the limit of the y-axis by calling the function set_ylim() on your Axes object\n"
   ]
  },
  {
   "cell_type": "markdown",
   "metadata": {},
   "source": [
    "---"
   ]
  },
  {
   "cell_type": "markdown",
   "metadata": {},
   "source": [
    "### Assignment 16: Generate the same three histograms as in Assignment 14 using Pandas\n"
   ]
  },
  {
   "cell_type": "markdown",
   "metadata": {},
   "source": [
    "---"
   ]
  },
  {
   "cell_type": "markdown",
   "metadata": {},
   "source": [
    "### Further reading/exploration\n",
    "Edward Tufte's book 'The visual display of quantitative information'.  \n",
    "Also see Bokeh and Seaborn for many more plotting options. \n",
    "\n",
    "* https://pandas.pydata.org/pandas-docs/stable/generated/pandas.DataFrame.plot.html\n",
    "* https://pandas.pydata.org/pandas-docs/stable/visualization.html\n",
    "* https://matplotlib.org\n",
    "* https://seaborn.pydata.org\n",
    "* http://bokeh.pydata.org/en/latest"
   ]
  }
 ],
 "metadata": {
  "anaconda-cloud": {},
  "kernelspec": {
   "display_name": "Python 3",
   "language": "python",
   "name": "python3"
  },
  "language_info": {
   "codemirror_mode": {
    "name": "ipython",
    "version": 3
   },
   "file_extension": ".py",
   "mimetype": "text/x-python",
   "name": "python",
   "nbconvert_exporter": "python",
   "pygments_lexer": "ipython3",
   "version": "3.6.0"
  }
 },
 "nbformat": 4,
 "nbformat_minor": 1
}
